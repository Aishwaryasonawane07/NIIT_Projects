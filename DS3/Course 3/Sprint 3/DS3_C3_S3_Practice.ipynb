{
  "nbformat": 4,
  "nbformat_minor": 0,
  "metadata": {
    "colab": {
      "provenance": []
    },
    "kernelspec": {
      "name": "python3",
      "display_name": "Python 3"
    },
    "language_info": {
      "name": "python"
    }
  },
  "cells": [
    {
      "cell_type": "markdown",
      "source": [
        "# **Task 1**"
      ],
      "metadata": {
        "id": "39xOqcPHoXvx"
      }
    },
    {
      "cell_type": "code",
      "execution_count": 1,
      "metadata": {
        "id": "nlWf7b6bn_1-"
      },
      "outputs": [],
      "source": [
        "import warnings\n",
        "warnings.filterwarnings('ignore')"
      ]
    },
    {
      "cell_type": "code",
      "source": [
        "import pandas as pd\n",
        "import numpy as np\n",
        "import json\n",
        "from time import time\n"
      ],
      "metadata": {
        "id": "SnN28quaoO-w"
      },
      "execution_count": 2,
      "outputs": []
    },
    {
      "cell_type": "code",
      "source": [
        "import sklearn\n",
        "from sklearn.datasets import load_files\n",
        "from sklearn.datasets import fetch_20newsgroups\n"
      ],
      "metadata": {
        "id": "KVM0LR27oU9y"
      },
      "execution_count": 3,
      "outputs": []
    },
    {
      "cell_type": "code",
      "source": [
        "\n",
        "newsgroups = fetch_20newsgroups(subset='all', shuffle=True, random_state=42)\n",
        "\n",
        "df = pd.DataFrame({'data': newsgroups.data, 'target': newsgroups.target})\n",
        "\n",
        "print(df.head())\n"
      ],
      "metadata": {
        "colab": {
          "base_uri": "https://localhost:8080/"
        },
        "id": "D-wzmYO6qrIC",
        "outputId": "8ecc8a87-512f-4bdf-cc30-d21a276781d2"
      },
      "execution_count": 4,
      "outputs": [
        {
          "output_type": "stream",
          "name": "stdout",
          "text": [
            "                                                data  target\n",
            "0  From: Mamatha Devineni Ratnam <mr47+@andrew.cm...      10\n",
            "1  From: mblawson@midway.ecn.uoknor.edu (Matthew ...       3\n",
            "2  From: hilmi-er@dsv.su.se (Hilmi Eren)\\nSubject...      17\n",
            "3  From: guyd@austin.ibm.com (Guy Dawson)\\nSubjec...       3\n",
            "4  From: Alexander Samuel McDiarmid <am2o+@andrew...       4\n"
          ]
        }
      ]
    },
    {
      "cell_type": "markdown",
      "source": [
        "# Task 3 :\n",
        "Display the length of all categories in the input dataset"
      ],
      "metadata": {
        "id": "DLCkS1d3tia7"
      }
    },
    {
      "cell_type": "code",
      "source": [
        "target_names = newsgroups.target_names\n",
        "\n",
        "category_lengths = [len(newsgroups.data[newsgroups.target == target_names[i]]) for i in range(len(target_names))]\n",
        "\n",
        "# Print the length of each category\n",
        "for i, name in enumerate(target_names):\n",
        "    print(f\"{name}: {category_lengths[i]}\")"
      ],
      "metadata": {
        "colab": {
          "base_uri": "https://localhost:8080/"
        },
        "id": "hEpok-6Or7J_",
        "outputId": "eb71d543-3a8a-4a80-a381-cf3f074782d6"
      },
      "execution_count": 5,
      "outputs": [
        {
          "output_type": "stream",
          "name": "stdout",
          "text": [
            "alt.atheism: 902\n",
            "comp.graphics: 902\n",
            "comp.os.ms-windows.misc: 902\n",
            "comp.sys.ibm.pc.hardware: 902\n",
            "comp.sys.mac.hardware: 902\n",
            "comp.windows.x: 902\n",
            "misc.forsale: 902\n",
            "rec.autos: 902\n",
            "rec.motorcycles: 902\n",
            "rec.sport.baseball: 902\n",
            "rec.sport.hockey: 902\n",
            "sci.crypt: 902\n",
            "sci.electronics: 902\n",
            "sci.med: 902\n",
            "sci.space: 902\n",
            "soc.religion.christian: 902\n",
            "talk.politics.guns: 902\n",
            "talk.politics.mideast: 902\n",
            "talk.politics.misc: 902\n",
            "talk.religion.misc: 902\n"
          ]
        }
      ]
    },
    {
      "cell_type": "markdown",
      "source": [
        "# Task 4 \n",
        "Clean the data and save it as a single dataframe\n"
      ],
      "metadata": {
        "id": "bW7C-ytBt_-j"
      }
    },
    {
      "cell_type": "code",
      "source": [
        "import re"
      ],
      "metadata": {
        "id": "d80_9eYmu0zK"
      },
      "execution_count": 6,
      "outputs": []
    },
    {
      "cell_type": "code",
      "source": [
        "import re\n",
        "from nltk.corpus import stopwords"
      ],
      "metadata": {
        "id": "gF7CLSmwFabf"
      },
      "execution_count": 7,
      "outputs": []
    },
    {
      "cell_type": "code",
      "source": [
        "import nltk\n",
        "nltk.download('stopwords')"
      ],
      "metadata": {
        "id": "4EQ-V_V8FbrI",
        "outputId": "22c7ab82-cad1-40a0-a7ee-0ce75b5ac1eb",
        "colab": {
          "base_uri": "https://localhost:8080/"
        }
      },
      "execution_count": 8,
      "outputs": [
        {
          "output_type": "stream",
          "name": "stderr",
          "text": [
            "[nltk_data] Downloading package stopwords to /root/nltk_data...\n",
            "[nltk_data]   Unzipping corpora/stopwords.zip.\n"
          ]
        },
        {
          "output_type": "execute_result",
          "data": {
            "text/plain": [
              "True"
            ]
          },
          "metadata": {},
          "execution_count": 8
        }
      ]
    },
    {
      "cell_type": "code",
      "source": [
        "stop_words = set(stopwords.words('english'))\n",
        "clean_data = []\n",
        "\n",
        "for doc in df['data']:\n",
        "# Remove special characters and convert to lowercase\n",
        "    cleaned_doc = re.sub(r'[^a-zA-Z]', ' ', doc).lower()\n",
        "    \n",
        "# Remove stop words\n",
        "    cleaned_doc = ' '.join([word for word in cleaned_doc.split() if word not in stop_words])\n",
        "    clean_data.append(cleaned_doc)\n",
        "\n",
        "df['cleaned_data']=pd.DataFrame(clean_data)\n",
        "\n"
      ],
      "metadata": {
        "id": "-qafX_6ruOFv"
      },
      "execution_count": 12,
      "outputs": []
    },
    {
      "cell_type": "code",
      "source": [
        "df.head()"
      ],
      "metadata": {
        "colab": {
          "base_uri": "https://localhost:8080/",
          "height": 250
        },
        "id": "cGABA-2FuvOq",
        "outputId": "298564c5-c5d6-44cd-c8d5-ba31b6dfd991"
      },
      "execution_count": 13,
      "outputs": [
        {
          "output_type": "execute_result",
          "data": {
            "text/plain": [
              "                                                data  target  \\\n",
              "0  From: Mamatha Devineni Ratnam <mr47+@andrew.cm...      10   \n",
              "1  From: mblawson@midway.ecn.uoknor.edu (Matthew ...       3   \n",
              "2  From: hilmi-er@dsv.su.se (Hilmi Eren)\\nSubject...      17   \n",
              "3  From: guyd@austin.ibm.com (Guy Dawson)\\nSubjec...       3   \n",
              "4  From: Alexander Samuel McDiarmid <am2o+@andrew...       4   \n",
              "\n",
              "                                        cleaned_data  \n",
              "0  mamatha devineni ratnam mr andrew cmu edu subj...  \n",
              "1  mblawson midway ecn uoknor edu matthew b lawso...  \n",
              "2  hilmi er dsv su se hilmi eren subject armenia ...  \n",
              "3  guyd austin ibm com guy dawson subject ide vs ...  \n",
              "4  alexander samuel mcdiarmid andrew cmu edu subj...  "
            ],
            "text/html": [
              "\n",
              "  <div id=\"df-41d608d1-96df-4906-a8c8-1e4314553fde\">\n",
              "    <div class=\"colab-df-container\">\n",
              "      <div>\n",
              "<style scoped>\n",
              "    .dataframe tbody tr th:only-of-type {\n",
              "        vertical-align: middle;\n",
              "    }\n",
              "\n",
              "    .dataframe tbody tr th {\n",
              "        vertical-align: top;\n",
              "    }\n",
              "\n",
              "    .dataframe thead th {\n",
              "        text-align: right;\n",
              "    }\n",
              "</style>\n",
              "<table border=\"1\" class=\"dataframe\">\n",
              "  <thead>\n",
              "    <tr style=\"text-align: right;\">\n",
              "      <th></th>\n",
              "      <th>data</th>\n",
              "      <th>target</th>\n",
              "      <th>cleaned_data</th>\n",
              "    </tr>\n",
              "  </thead>\n",
              "  <tbody>\n",
              "    <tr>\n",
              "      <th>0</th>\n",
              "      <td>From: Mamatha Devineni Ratnam &lt;mr47+@andrew.cm...</td>\n",
              "      <td>10</td>\n",
              "      <td>mamatha devineni ratnam mr andrew cmu edu subj...</td>\n",
              "    </tr>\n",
              "    <tr>\n",
              "      <th>1</th>\n",
              "      <td>From: mblawson@midway.ecn.uoknor.edu (Matthew ...</td>\n",
              "      <td>3</td>\n",
              "      <td>mblawson midway ecn uoknor edu matthew b lawso...</td>\n",
              "    </tr>\n",
              "    <tr>\n",
              "      <th>2</th>\n",
              "      <td>From: hilmi-er@dsv.su.se (Hilmi Eren)\\nSubject...</td>\n",
              "      <td>17</td>\n",
              "      <td>hilmi er dsv su se hilmi eren subject armenia ...</td>\n",
              "    </tr>\n",
              "    <tr>\n",
              "      <th>3</th>\n",
              "      <td>From: guyd@austin.ibm.com (Guy Dawson)\\nSubjec...</td>\n",
              "      <td>3</td>\n",
              "      <td>guyd austin ibm com guy dawson subject ide vs ...</td>\n",
              "    </tr>\n",
              "    <tr>\n",
              "      <th>4</th>\n",
              "      <td>From: Alexander Samuel McDiarmid &lt;am2o+@andrew...</td>\n",
              "      <td>4</td>\n",
              "      <td>alexander samuel mcdiarmid andrew cmu edu subj...</td>\n",
              "    </tr>\n",
              "  </tbody>\n",
              "</table>\n",
              "</div>\n",
              "      <button class=\"colab-df-convert\" onclick=\"convertToInteractive('df-41d608d1-96df-4906-a8c8-1e4314553fde')\"\n",
              "              title=\"Convert this dataframe to an interactive table.\"\n",
              "              style=\"display:none;\">\n",
              "        \n",
              "  <svg xmlns=\"http://www.w3.org/2000/svg\" height=\"24px\"viewBox=\"0 0 24 24\"\n",
              "       width=\"24px\">\n",
              "    <path d=\"M0 0h24v24H0V0z\" fill=\"none\"/>\n",
              "    <path d=\"M18.56 5.44l.94 2.06.94-2.06 2.06-.94-2.06-.94-.94-2.06-.94 2.06-2.06.94zm-11 1L8.5 8.5l.94-2.06 2.06-.94-2.06-.94L8.5 2.5l-.94 2.06-2.06.94zm10 10l.94 2.06.94-2.06 2.06-.94-2.06-.94-.94-2.06-.94 2.06-2.06.94z\"/><path d=\"M17.41 7.96l-1.37-1.37c-.4-.4-.92-.59-1.43-.59-.52 0-1.04.2-1.43.59L10.3 9.45l-7.72 7.72c-.78.78-.78 2.05 0 2.83L4 21.41c.39.39.9.59 1.41.59.51 0 1.02-.2 1.41-.59l7.78-7.78 2.81-2.81c.8-.78.8-2.07 0-2.86zM5.41 20L4 18.59l7.72-7.72 1.47 1.35L5.41 20z\"/>\n",
              "  </svg>\n",
              "      </button>\n",
              "      \n",
              "  <style>\n",
              "    .colab-df-container {\n",
              "      display:flex;\n",
              "      flex-wrap:wrap;\n",
              "      gap: 12px;\n",
              "    }\n",
              "\n",
              "    .colab-df-convert {\n",
              "      background-color: #E8F0FE;\n",
              "      border: none;\n",
              "      border-radius: 50%;\n",
              "      cursor: pointer;\n",
              "      display: none;\n",
              "      fill: #1967D2;\n",
              "      height: 32px;\n",
              "      padding: 0 0 0 0;\n",
              "      width: 32px;\n",
              "    }\n",
              "\n",
              "    .colab-df-convert:hover {\n",
              "      background-color: #E2EBFA;\n",
              "      box-shadow: 0px 1px 2px rgba(60, 64, 67, 0.3), 0px 1px 3px 1px rgba(60, 64, 67, 0.15);\n",
              "      fill: #174EA6;\n",
              "    }\n",
              "\n",
              "    [theme=dark] .colab-df-convert {\n",
              "      background-color: #3B4455;\n",
              "      fill: #D2E3FC;\n",
              "    }\n",
              "\n",
              "    [theme=dark] .colab-df-convert:hover {\n",
              "      background-color: #434B5C;\n",
              "      box-shadow: 0px 1px 3px 1px rgba(0, 0, 0, 0.15);\n",
              "      filter: drop-shadow(0px 1px 2px rgba(0, 0, 0, 0.3));\n",
              "      fill: #FFFFFF;\n",
              "    }\n",
              "  </style>\n",
              "\n",
              "      <script>\n",
              "        const buttonEl =\n",
              "          document.querySelector('#df-41d608d1-96df-4906-a8c8-1e4314553fde button.colab-df-convert');\n",
              "        buttonEl.style.display =\n",
              "          google.colab.kernel.accessAllowed ? 'block' : 'none';\n",
              "\n",
              "        async function convertToInteractive(key) {\n",
              "          const element = document.querySelector('#df-41d608d1-96df-4906-a8c8-1e4314553fde');\n",
              "          const dataTable =\n",
              "            await google.colab.kernel.invokeFunction('convertToInteractive',\n",
              "                                                     [key], {});\n",
              "          if (!dataTable) return;\n",
              "\n",
              "          const docLinkHtml = 'Like what you see? Visit the ' +\n",
              "            '<a target=\"_blank\" href=https://colab.research.google.com/notebooks/data_table.ipynb>data table notebook</a>'\n",
              "            + ' to learn more about interactive tables.';\n",
              "          element.innerHTML = '';\n",
              "          dataTable['output_type'] = 'display_data';\n",
              "          await google.colab.output.renderOutput(dataTable, element);\n",
              "          const docLink = document.createElement('div');\n",
              "          docLink.innerHTML = docLinkHtml;\n",
              "          element.appendChild(docLink);\n",
              "        }\n",
              "      </script>\n",
              "    </div>\n",
              "  </div>\n",
              "  "
            ]
          },
          "metadata": {},
          "execution_count": 13
        }
      ]
    },
    {
      "cell_type": "markdown",
      "source": [
        "# Task 5 \n",
        "Split the dataframe into train and test."
      ],
      "metadata": {
        "id": "9p9HM5sovMMy"
      }
    },
    {
      "cell_type": "code",
      "source": [
        "from sklearn.model_selection import train_test_split\n",
        "\n",
        "x_train, x_test, y_train, y_test = train_test_split(df['data'],df['target'],test_size=0.2, random_state=13)"
      ],
      "metadata": {
        "id": "9_wWFT4Ku8eB"
      },
      "execution_count": 14,
      "outputs": []
    },
    {
      "cell_type": "code",
      "source": [
        "x_train.shape,x_test.shape,y_train.shape,y_test.shape"
      ],
      "metadata": {
        "id": "lcBEO4fYEi8t",
        "outputId": "46b53923-3fe4-4761-b863-b7e65c5ec80e",
        "colab": {
          "base_uri": "https://localhost:8080/"
        }
      },
      "execution_count": 15,
      "outputs": [
        {
          "output_type": "execute_result",
          "data": {
            "text/plain": [
              "((15076,), (3770,), (15076,), (3770,))"
            ]
          },
          "metadata": {},
          "execution_count": 15
        }
      ]
    },
    {
      "cell_type": "code",
      "source": [
        "train_df, test_df = train_test_split(df, test_size=0.2, random_state=42)\n",
        "\n",
        "print(f\"Number of documents in train set: {len(train_df)}\")\n",
        "print(f\"Number of documents in test set: {len(test_df)}\")"
      ],
      "metadata": {
        "id": "tIzkg66OE8CR",
        "outputId": "1ce850cd-61c0-4033-ca0f-70dad720ea15",
        "colab": {
          "base_uri": "https://localhost:8080/"
        }
      },
      "execution_count": 16,
      "outputs": [
        {
          "output_type": "stream",
          "name": "stdout",
          "text": [
            "Number of documents in train set: 15076\n",
            "Number of documents in test set: 3770\n"
          ]
        }
      ]
    },
    {
      "cell_type": "markdown",
      "source": [
        "# Task 6 \n",
        "Perform multi- label classification with fastText"
      ],
      "metadata": {
        "id": "925ItOe2x2Ku"
      }
    },
    {
      "cell_type": "code",
      "source": [
        "!pip install fasttext\n",
        "import fasttext"
      ],
      "metadata": {
        "id": "DprqsqRA5Op_",
        "outputId": "7ac37697-258d-47b3-de17-83020b474b55",
        "colab": {
          "base_uri": "https://localhost:8080/"
        }
      },
      "execution_count": 17,
      "outputs": [
        {
          "output_type": "stream",
          "name": "stdout",
          "text": [
            "Looking in indexes: https://pypi.org/simple, https://us-python.pkg.dev/colab-wheels/public/simple/\n",
            "Requirement already satisfied: fasttext in /usr/local/lib/python3.9/dist-packages (0.9.2)\n",
            "Requirement already satisfied: numpy in /usr/local/lib/python3.9/dist-packages (from fasttext) (1.22.4)\n",
            "Requirement already satisfied: pybind11>=2.2 in /usr/local/lib/python3.9/dist-packages (from fasttext) (2.10.3)\n",
            "Requirement already satisfied: setuptools>=0.7.0 in /usr/local/lib/python3.9/dist-packages (from fasttext) (63.4.3)\n"
          ]
        }
      ]
    },
    {
      "cell_type": "code",
      "source": [
        "clean_data = []\n",
        "with open('train.txt', 'w') as f:\n",
        "    for index, row in train_df.iterrows():\n",
        "        f.write('__label__' + str(row['target']) + ' ' + row['cleaned_data'] + '\\n')\n",
        "\n",
        "# Save test data to file\n",
        "with open('test.txt', 'w') as f:\n",
        "    for index, row in test_df.iterrows():\n",
        "        f.write('__label__' + str(row['target']) + ' ' + row['cleaned_data'] + '\\n')"
      ],
      "metadata": {
        "id": "gxdVu0zbExMp"
      },
      "execution_count": 18,
      "outputs": []
    },
    {
      "cell_type": "code",
      "source": [
        "import fasttext\n",
        "\n",
        "# Train the model\n",
        "model = fasttext.train_supervised('train.txt')\n",
        "\n",
        "# Evaluate the model on the test data\n",
        "test_results = model.test('test.txt')"
      ],
      "metadata": {
        "id": "Qs7RdGtQExPk"
      },
      "execution_count": 19,
      "outputs": []
    },
    {
      "cell_type": "code",
      "source": [
        "from sklearn.metrics import classification_report\n",
        "\n",
        "with open('test.txt', 'r') as f:\n",
        "    test_data = f.readlines()\n",
        "predicted_labels = [model.predict(doc.strip())[0] for doc in test_data]\n",
        "# Extract the predicted and true labels from the predicted_labels list\n",
        "predicted_labels = [pred[0].replace('__label__', '') for pred in predicted_labels]\n",
        "true_labels = [doc.strip().split()[0].replace('__label__', '') for doc in test_data]\n",
        "print(classification_report(true_labels, predicted_labels))"
      ],
      "metadata": {
        "id": "WyQsexicExSp",
        "outputId": "cbe815b7-94de-442a-acd5-0e31e2f1583e",
        "colab": {
          "base_uri": "https://localhost:8080/"
        }
      },
      "execution_count": 20,
      "outputs": [
        {
          "output_type": "stream",
          "name": "stdout",
          "text": [
            "              precision    recall  f1-score   support\n",
            "\n",
            "           0       0.00      0.00      0.00       151\n",
            "           1       0.00      0.00      0.00       202\n",
            "          10       0.28      0.80      0.41       198\n",
            "          11       0.44      0.33      0.38       201\n",
            "          12       0.00      0.00      0.00       202\n",
            "          13       0.00      0.00      0.00       194\n",
            "          14       1.00      0.01      0.02       189\n",
            "          15       0.16      0.92      0.27       202\n",
            "          16       0.07      0.02      0.03       188\n",
            "          17       0.00      0.00      0.00       182\n",
            "          18       0.00      0.00      0.00       159\n",
            "          19       0.00      0.00      0.00       136\n",
            "           2       0.29      0.39      0.33       195\n",
            "           3       0.09      0.04      0.06       183\n",
            "           4       0.00      0.00      0.00       205\n",
            "           5       0.34      0.72      0.46       215\n",
            "           6       0.20      0.79      0.32       193\n",
            "           7       0.00      0.00      0.00       196\n",
            "           8       0.26      0.13      0.17       168\n",
            "           9       0.04      0.03      0.03       211\n",
            "\n",
            "    accuracy                           0.22      3770\n",
            "   macro avg       0.16      0.21      0.12      3770\n",
            "weighted avg       0.16      0.22      0.13      3770\n",
            "\n"
          ]
        }
      ]
    },
    {
      "cell_type": "markdown",
      "source": [
        "# Task 7"
      ],
      "metadata": {
        "id": "AKCWJtxCGfN5"
      }
    },
    {
      "cell_type": "code",
      "source": [
        "from sklearn.metrics import f1_score\n",
        "\n",
        "f1 = f1_score(true_labels, predicted_labels, average='weighted')\n",
        "print(f\"F1-score: {f1*100:.2f}%\")"
      ],
      "metadata": {
        "id": "WtvIdb-nExVT",
        "outputId": "9e82d71d-c962-4ea3-ffc7-776e2b3ff4a3",
        "colab": {
          "base_uri": "https://localhost:8080/"
        }
      },
      "execution_count": 21,
      "outputs": [
        {
          "output_type": "stream",
          "name": "stdout",
          "text": [
            "F1-score: 13.11%\n"
          ]
        }
      ]
    },
    {
      "cell_type": "markdown",
      "source": [
        "# Interpretation \n",
        "Fasttext is considered to be the quickest and smoothest text classification algorithms for huge datasets."
      ],
      "metadata": {
        "id": "B5_jZlz8Go_2"
      }
    }
  ]
}