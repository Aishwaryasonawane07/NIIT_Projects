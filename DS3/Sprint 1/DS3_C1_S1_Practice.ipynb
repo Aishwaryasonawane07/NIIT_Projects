{
 "cells": [
  {
   "cell_type": "markdown",
   "id": "7efc4fc3",
   "metadata": {},
   "source": [
    "# Task 1:\n",
    "## a. What is null and alternate hypothesis"
   ]
  },
  {
   "cell_type": "markdown",
   "id": "4b633177",
   "metadata": {},
   "source": [
    "H0: Customers satisfied with service \n",
    "\n",
    "Ha: Customers are not satisfied with service"
   ]
  },
  {
   "cell_type": "code",
   "execution_count": 1,
   "id": "fa22fecd",
   "metadata": {},
   "outputs": [
    {
     "data": {
      "text/plain": [
       "4"
      ]
     },
     "execution_count": 1,
     "metadata": {},
     "output_type": "execute_result"
    }
   ],
   "source": [
    "oberved_data = [24,106,61,14]\n",
    "n = len(oberved_data)\n",
    "n"
   ]
  },
  {
   "cell_type": "markdown",
   "id": "d0c70a14",
   "metadata": {},
   "source": [
    "## b. Using alpha = 0.05, what is the critical value ?\n",
    "\n",
    "### Calculate X2 Critical "
   ]
  },
  {
   "cell_type": "code",
   "execution_count": 2,
   "id": "9deea023",
   "metadata": {},
   "outputs": [
    {
     "name": "stdout",
     "output_type": "stream",
     "text": [
      " X2 Critical =  7.814727903251179\n"
     ]
    }
   ],
   "source": [
    "from scipy.stats import chi2\n",
    "\n",
    "alpha = 0.05\n",
    "\n",
    "chi_critical = chi2.ppf(1-alpha, df=3)\n",
    "\n",
    "print(\" X2 Critical = \", chi_critical)"
   ]
  },
  {
   "cell_type": "markdown",
   "id": "1d08fe32",
   "metadata": {},
   "source": [
    "## c. What are the test statistics for the hypothesis test?\n",
    "\n",
    "### Calcluate X2 statistics"
   ]
  },
  {
   "cell_type": "code",
   "execution_count": 3,
   "id": "7be659d8",
   "metadata": {},
   "outputs": [
    {
     "name": "stdout",
     "output_type": "stream",
     "text": [
      "51.25\n"
     ]
    }
   ],
   "source": [
    "Expected_frequency = sum(oberved_data)/n\n",
    "print(Expected_frequency)"
   ]
  },
  {
   "cell_type": "code",
   "execution_count": 4,
   "id": "3b4c5904",
   "metadata": {},
   "outputs": [
    {
     "name": "stdout",
     "output_type": "stream",
     "text": [
      "X2 Statistics = 101.90731707317074\n"
     ]
    }
   ],
   "source": [
    "chis = 0\n",
    "for x in oberved_data:\n",
    "    chis = chis + (x - Expected_frequency)**2/ Expected_frequency\n",
    "print(\"X2 Statistics =\", chis)"
   ]
  },
  {
   "cell_type": "markdown",
   "id": "e6b71e0e",
   "metadata": {},
   "source": [
    "## d. Draw the conclusion for the hypothesis test. Sketch the graph and state the conclusion"
   ]
  },
  {
   "cell_type": "code",
   "execution_count": 5,
   "id": "abc0cdd8",
   "metadata": {},
   "outputs": [
    {
     "data": {
      "text/plain": [
       "[<matplotlib.lines.Line2D at 0x1a5f370f8b0>]"
      ]
     },
     "execution_count": 5,
     "metadata": {},
     "output_type": "execute_result"
    },
    {
     "data": {
      "image/png": "[encoded data removed]",
      "text/plain": [
       "<Figure size 640x480 with 1 Axes>"
      ]
     },
     "metadata": {},
     "output_type": "display_data"
    }
   ],
   "source": [
    "import numpy as np\n",
    "import matplotlib.pyplot as plt\n",
    "from scipy.stats import chi2\n",
    "\n",
    "x = np.arange(0,20)\n",
    "plt.plot(x,chi2.pdf(x,df=3))"
   ]
  },
  {
   "cell_type": "code",
   "execution_count": 6,
   "id": "cd20d557",
   "metadata": {},
   "outputs": [
    {
     "data": {
      "text/plain": [
       "0.0"
      ]
     },
     "execution_count": 6,
     "metadata": {},
     "output_type": "execute_result"
    }
   ],
   "source": [
    "from scipy.stats import norm\n",
    "p_value = norm.sf(abs(chis), 3)\n",
    "p_value"
   ]
  },
  {
   "cell_type": "code",
   "execution_count": 7,
   "id": "11ca720a",
   "metadata": {},
   "outputs": [],
   "source": [
    "### Conclusion"
   ]
  },
  {
   "cell_type": "markdown",
   "id": "56654db4",
   "metadata": {},
   "source": [
    "\n",
    "p_value = 0.0 < aplpha = 0.05 , which leads to reject of null hypothesis\n",
    "\n",
    "X2_statistics = 101.90 > X2_ critical = 7.81, which leads to reject of Null Hypothesis.\n",
    "\n",
    "conclusion : Customers are not satisfied with service"
   ]
  },
  {
   "cell_type": "markdown",
   "id": "bff19f1e",
   "metadata": {},
   "source": [
    "# Task 2 \n",
    "\n",
    "### a. What is null and alternate hypothesis"
   ]
  },
  {
   "cell_type": "markdown",
   "id": "4ca9dc32",
   "metadata": {},
   "source": [
    "H0 : The number of bedrooms is independent of the number of stories\n",
    " \n",
    "H1 : The number of bedrooms is not independent of the number of stories"
   ]
  },
  {
   "cell_type": "code",
   "execution_count": 8,
   "id": "8ee4e6ec",
   "metadata": {},
   "outputs": [
    {
     "name": "stdout",
     "output_type": "stream",
     "text": [
      "[[116, 101, 57], [90, 325, 160]]\n"
     ]
    }
   ],
   "source": [
    "from scipy.stats import chi2_contingency\n",
    "from scipy.stats import chi2\n",
    "\n",
    "table = [[116,101,57], [90,325,160]]\n",
    "\n",
    "print(table)"
   ]
  },
  {
   "cell_type": "code",
   "execution_count": 9,
   "id": "1438eb7b",
   "metadata": {},
   "outputs": [
    {
     "data": {
      "text/plain": [
       "(72.33176626617666,\n",
       " 1.9649727053475884e-16,\n",
       " 2,\n",
       " array([[ 66.48292108, 137.48409894,  70.03297998],\n",
       "        [139.51707892, 288.51590106, 146.96702002]]))"
      ]
     },
     "execution_count": 9,
     "metadata": {},
     "output_type": "execute_result"
    }
   ],
   "source": [
    "chi2, p_value, dof, expected = chi2_contingency(table)\n",
    "chi2_contingency(table)"
   ]
  },
  {
   "cell_type": "code",
   "execution_count": 10,
   "id": "999ab271",
   "metadata": {},
   "outputs": [
    {
     "name": "stdout",
     "output_type": "stream",
     "text": [
      "Chi-Square Statistic:  72.33176626617666\n",
      "p-value:  1.9649727053475884e-16\n",
      "Degrees of Freedom:  2\n",
      "Expected Frequencies: \n",
      " [[ 66.48292108 137.48409894  70.03297998]\n",
      " [139.51707892 288.51590106 146.96702002]]\n"
     ]
    }
   ],
   "source": [
    "print(\"Chi-Square Statistic: \", chi2)\n",
    "print(\"p-value: \", p_value)\n",
    "print(\"Degrees of Freedom: \", dof)\n",
    "print(\"Expected Frequencies: \\n\", expected)"
   ]
  },
  {
   "cell_type": "markdown",
   "id": "32924ea8",
   "metadata": {},
   "source": [
    "### b. critical value \n",
    "### c. test statistics "
   ]
  },
  {
   "cell_type": "code",
   "execution_count": 16,
   "id": "626cf06c",
   "metadata": {},
   "outputs": [
    {
     "name": "stdout",
     "output_type": "stream",
     "text": [
      "Probability = 0.100  X2 Critical = 4.605 stats = 72.330\n"
     ]
    }
   ],
   "source": [
    "from scipy.stats import chi2\n",
    "\n",
    "alpha = 0.1\n",
    "stats = 72.33\n",
    "\n",
    "chi_critical = chi2.ppf(1-alpha, df=2)\n",
    "\n",
    "print(\"Probability = %.3f  X2 Critical = %.3f stats = %.3f\" %(alpha, chi_critical, stats))"
   ]
  },
  {
   "cell_type": "markdown",
   "id": "68c1274e",
   "metadata": {},
   "source": [
    "### d. Draw the conclusion for the hypothesis test. Sketch the graph and state the conclusion"
   ]
  },
  {
   "cell_type": "code",
   "execution_count": 12,
   "id": "1a171745",
   "metadata": {},
   "outputs": [
    {
     "name": "stdout",
     "output_type": "stream",
     "text": [
      "Dependent (reject H0)\n"
     ]
    }
   ],
   "source": [
    "if abs(stats) >= chi_critical:\n",
    "    print(\"Dependent (reject H0)\")\n",
    "else :\n",
    "    print(\"Independent (fail to reject H0)\")"
   ]
  },
  {
   "cell_type": "code",
   "execution_count": 13,
   "id": "f8b22a11",
   "metadata": {},
   "outputs": [
    {
     "data": {
      "text/plain": [
       "[<matplotlib.lines.Line2D at 0x1a5f3e1c160>]"
      ]
     },
     "execution_count": 13,
     "metadata": {},
     "output_type": "execute_result"
    },
    {
     "data": {
      "image/png": "[encoded data removed]",
      "text/plain": [
       "<Figure size 640x480 with 1 Axes>"
      ]
     },
     "metadata": {},
     "output_type": "display_data"
    }
   ],
   "source": [
    "x = np.arange(-1,20)\n",
    "plt.plot(x,chi2.pdf(x,df=2))"
   ]
  },
  {
   "cell_type": "code",
   "execution_count": 18,
   "id": "e9e557f5",
   "metadata": {},
   "outputs": [
    {
     "name": "stdout",
     "output_type": "stream",
     "text": [
      "Reject the null hypothesis\n"
     ]
    }
   ],
   "source": [
    "if p_value < alpha:\n",
    "    if stats > chi_critical:\n",
    "        print(\"Reject the null hypothesis\")\n",
    "    else:\n",
    "        print(\"Accept the null hypothesis\")\n",
    "else:\n",
    "    print(\"Accept the null hypothesis\")"
   ]
  }
 ],
 "metadata": {
  "kernelspec": {
   "display_name": "Python 3 (ipykernel)",
   "language": "python",
   "name": "python3"
  },
  "language_info": {
   "codemirror_mode": {
    "name": "ipython",
    "version": 3
   },
   "file_extension": ".py",
   "mimetype": "text/x-python",
   "name": "python",
   "nbconvert_exporter": "python",
   "pygments_lexer": "ipython3",
   "version": "3.9.13"
  }
 },
 "nbformat": 4,
 "nbformat_minor": 5
}
