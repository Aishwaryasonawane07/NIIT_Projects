{
 "cells": [
  {
   "cell_type": "markdown",
   "id": "731be5a4",
   "metadata": {},
   "source": [
    "# Task 1"
   ]
  },
  {
   "cell_type": "markdown",
   "id": "d11797d7",
   "metadata": {},
   "source": [
    "## a. What is null and alternate hypothesis"
   ]
  },
  {
   "cell_type": "markdown",
   "id": "daa90ac3",
   "metadata": {},
   "source": [
    "H0 : Regular application and early application are distributed same\n",
    "    \n",
    "H1 : Regular application and early application are not distributd same"
   ]
  },
  {
   "cell_type": "code",
   "execution_count": 3,
   "id": "3606f142",
   "metadata": {},
   "outputs": [],
   "source": [
    "from scipy.stats import chi2_contingency\n",
    "from scipy.stats import chi2\n",
    "\n",
    "data = [[2115, 1792, 5304, 1734, 2685, 1245], [577,627,1228,444,1195,761]]"
   ]
  },
  {
   "cell_type": "code",
   "execution_count": 4,
   "id": "0e728b5a",
   "metadata": {},
   "outputs": [
    {
     "data": {
      "text/plain": [
       "(429.7661086064742,\n",
       " 1.135456188482975e-90,\n",
       " 5,\n",
       " array([[2031.94296443, 1825.88039783, 4930.40543969, 1643.97168519,\n",
       "         2928.65479271, 1514.14472015],\n",
       "        [ 660.05703557,  593.11960217, 1601.59456031,  534.02831481,\n",
       "          951.34520729,  491.85527985]]))"
      ]
     },
     "execution_count": 4,
     "metadata": {},
     "output_type": "execute_result"
    }
   ],
   "source": [
    "chi2, p_value, dof, expected = chi2_contingency(data)\n",
    "chi2_contingency(data)"
   ]
  },
  {
   "cell_type": "code",
   "execution_count": 6,
   "id": "d973376c",
   "metadata": {},
   "outputs": [
    {
     "name": "stdout",
     "output_type": "stream",
     "text": [
      "Chi-Square Statistic:  429.7661086064742\n",
      "p-value:  1.135456188482975e-90\n",
      "Degrees of Freedom:  5\n"
     ]
    }
   ],
   "source": [
    "print(\"Chi-Square Statistic: \", chi2)\n",
    "print(\"p-value: \", p_value)\n",
    "print(\"Degrees of Freedom: \", dof)"
   ]
  },
  {
   "cell_type": "code",
   "execution_count": 29,
   "id": "a3a6508c",
   "metadata": {},
   "outputs": [
    {
     "name": "stdout",
     "output_type": "stream",
     "text": [
      "Probability = 0.100  X2 Critical = 9.236 , Chi_Stats = 429.760\n"
     ]
    }
   ],
   "source": [
    "from scipy.stats import chi2\n",
    "\n",
    "alpha = 0.1\n",
    "stats = 429.76\n",
    "chi_critical = chi2.ppf(1-alpha, dof)\n",
    "\n",
    "print(\"Probability = %.3f  X2 Critical = %.3f , Chi_Stats = %.3f\"%(alpha, chi_critical,stats ))"
   ]
  },
  {
   "cell_type": "code",
   "execution_count": 30,
   "id": "6c1899c2",
   "metadata": {},
   "outputs": [
    {
     "name": "stdout",
     "output_type": "stream",
     "text": [
      "Reject the null hypothesis\n"
     ]
    }
   ],
   "source": [
    "if p_value < alpha:\n",
    "    if stats > chi_critical:\n",
    "        print(\"Reject the null hypothesis\")\n",
    "    else:\n",
    "        print(\"Accept the null hypothesis\")\n",
    "else:\n",
    "    print(\"Accept the null hypothesis\")"
   ]
  },
  {
   "cell_type": "markdown",
   "id": "2f0f9bfa",
   "metadata": {},
   "source": [
    "# Task 2"
   ]
  },
  {
   "cell_type": "markdown",
   "id": "52e89d16",
   "metadata": {},
   "source": [
    "H0 :  Male entrepreneurs felt same as female \n",
    "H1 : Male entrepreneurs not felt same as female"
   ]
  },
  {
   "cell_type": "code",
   "execution_count": 43,
   "id": "5b3eff31",
   "metadata": {},
   "outputs": [],
   "source": [
    "oberved_data = [[91,41,27,68], [42,95,27,63]]\n"
   ]
  },
  {
   "cell_type": "code",
   "execution_count": 36,
   "id": "03713109",
   "metadata": {},
   "outputs": [
    {
     "data": {
      "text/plain": [
       "(39.68464774419209,\n",
       " 1.2427869232706045e-08,\n",
       " 3,\n",
       " array([[66.5, 68. , 27. , 65.5],\n",
       "        [66.5, 68. , 27. , 65.5]]))"
      ]
     },
     "execution_count": 36,
     "metadata": {},
     "output_type": "execute_result"
    }
   ],
   "source": [
    "chi2, p_value, dof, expected = chi2_contingency(oberved_data)\n",
    "chi2_contingency(oberved_data)"
   ]
  },
  {
   "cell_type": "code",
   "execution_count": 38,
   "id": "496a3ffd",
   "metadata": {},
   "outputs": [
    {
     "name": "stdout",
     "output_type": "stream",
     "text": [
      " X2 Critical =  7.814727903251179\n"
     ]
    }
   ],
   "source": [
    "from scipy.stats import chi2\n",
    "\n",
    "alpha = 0.05\n",
    "chi_critical = chi2.ppf(1-alpha, dof)\n",
    "\n",
    "print(\" X2 Critical = \", chi_critical)"
   ]
  },
  {
   "cell_type": "code",
   "execution_count": 41,
   "id": "9b966449",
   "metadata": {},
   "outputs": [
    {
     "data": {
      "text/plain": [
       "[<matplotlib.lines.Line2D at 0x15617f6c370>]"
      ]
     },
     "execution_count": 41,
     "metadata": {},
     "output_type": "execute_result"
    },
    {
     "data": {
      "image/png": "[encoded data removed]",
      "text/plain": [
       "<Figure size 640x480 with 1 Axes>"
      ]
     },
     "metadata": {},
     "output_type": "display_data"
    }
   ],
   "source": [
    "import numpy as np\n",
    "import matplotlib.pyplot as plt\n",
    "from scipy.stats import chi2\n",
    "\n",
    "x = np.arange(0,20)\n",
    "plt.plot(x,chi2.pdf(x,dof))"
   ]
  },
  {
   "cell_type": "code",
   "execution_count": 42,
   "id": "ecb167ed",
   "metadata": {},
   "outputs": [
    {
     "name": "stdout",
     "output_type": "stream",
     "text": [
      "Reject the null hypothesis\n"
     ]
    }
   ],
   "source": [
    "if p_value < alpha:\n",
    "    if chis > chi_critical:\n",
    "        print(\"Reject the null hypothesis\")\n",
    "    else:\n",
    "        print(\"Accept the null hypothesis\")\n",
    "else:\n",
    "    print(\"Accept the null hypothesis\")"
   ]
  },
  {
   "cell_type": "code",
   "execution_count": null,
   "id": "e957badf",
   "metadata": {},
   "outputs": [],
   "source": []
  }
 ],
 "metadata": {
  "kernelspec": {
   "display_name": "Python 3 (ipykernel)",
   "language": "python",
   "name": "python3"
  },
  "language_info": {
   "codemirror_mode": {
    "name": "ipython",
    "version": 3
   },
   "file_extension": ".py",
   "mimetype": "text/x-python",
   "name": "python",
   "nbconvert_exporter": "python",
   "pygments_lexer": "ipython3",
   "version": "3.9.13"
  }
 },
 "nbformat": 4,
 "nbformat_minor": 5
}
