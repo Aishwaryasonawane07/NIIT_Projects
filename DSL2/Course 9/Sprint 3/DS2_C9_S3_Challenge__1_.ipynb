{
 "cells": [
  {
   "cell_type": "markdown",
   "id": "1972fd5b",
   "metadata": {},
   "source": [
    "# DS2_C9_S3_Challenge"
   ]
  },
  {
   "cell_type": "markdown",
   "id": "42c29732",
   "metadata": {},
   "source": [
    "# Task 1 : Data Exploration"
   ]
  },
  {
   "cell_type": "code",
   "execution_count": 1,
   "id": "420ebbd4",
   "metadata": {},
   "outputs": [],
   "source": [
    "#1. Import required Python libraries.\n",
    "import numpy as np      # mathematical operation\n",
    "import pandas as pd     # to create data structure "
   ]
  },
  {
   "cell_type": "code",
   "execution_count": 2,
   "id": "f9ac5b91",
   "metadata": {},
   "outputs": [],
   "source": [
    "# import data \n",
    "df = pd.read_csv(\"D:\\Data Science\\Course 9\\DS2_C5_S3_Income_Data_Challenge.csv\")   # read of data "
   ]
  },
  {
   "cell_type": "code",
   "execution_count": 3,
   "id": "7a15d868",
   "metadata": {},
   "outputs": [
    {
     "data": {
      "text/html": [
       "<div>\n",
       "<style scoped>\n",
       "    .dataframe tbody tr th:only-of-type {\n",
       "        vertical-align: middle;\n",
       "    }\n",
       "\n",
       "    .dataframe tbody tr th {\n",
       "        vertical-align: top;\n",
       "    }\n",
       "\n",
       "    .dataframe thead th {\n",
       "        text-align: right;\n",
       "    }\n",
       "</style>\n",
       "<table border=\"1\" class=\"dataframe\">\n",
       "  <thead>\n",
       "    <tr style=\"text-align: right;\">\n",
       "      <th></th>\n",
       "      <th>Age</th>\n",
       "      <th>WorkClass</th>\n",
       "      <th>Fnlwgt</th>\n",
       "      <th>Education</th>\n",
       "      <th>Education_Num</th>\n",
       "      <th>Marital_Status</th>\n",
       "      <th>Occupation</th>\n",
       "      <th>Relationship</th>\n",
       "      <th>Race</th>\n",
       "      <th>Gender</th>\n",
       "      <th>Capital_Gain</th>\n",
       "      <th>Capital_Loss</th>\n",
       "      <th>Hours_Per_Week</th>\n",
       "      <th>Native_Country</th>\n",
       "      <th>Income_Bracket</th>\n",
       "    </tr>\n",
       "  </thead>\n",
       "  <tbody>\n",
       "    <tr>\n",
       "      <th>0</th>\n",
       "      <td>39</td>\n",
       "      <td>State-gov</td>\n",
       "      <td>77516</td>\n",
       "      <td>Bachelors</td>\n",
       "      <td>13</td>\n",
       "      <td>Never-married</td>\n",
       "      <td>Adm-clerical</td>\n",
       "      <td>Not-in-family</td>\n",
       "      <td>White</td>\n",
       "      <td>Male</td>\n",
       "      <td>2174</td>\n",
       "      <td>0</td>\n",
       "      <td>40</td>\n",
       "      <td>United-States</td>\n",
       "      <td>&lt;=50K</td>\n",
       "    </tr>\n",
       "    <tr>\n",
       "      <th>1</th>\n",
       "      <td>50</td>\n",
       "      <td>Self-emp-not-inc</td>\n",
       "      <td>83311</td>\n",
       "      <td>Bachelors</td>\n",
       "      <td>13</td>\n",
       "      <td>Married-civ-spouse</td>\n",
       "      <td>Exec-managerial</td>\n",
       "      <td>Husband</td>\n",
       "      <td>White</td>\n",
       "      <td>Male</td>\n",
       "      <td>0</td>\n",
       "      <td>0</td>\n",
       "      <td>13</td>\n",
       "      <td>United-States</td>\n",
       "      <td>&lt;=50K</td>\n",
       "    </tr>\n",
       "    <tr>\n",
       "      <th>2</th>\n",
       "      <td>38</td>\n",
       "      <td>Private</td>\n",
       "      <td>215646</td>\n",
       "      <td>HS-grad</td>\n",
       "      <td>9</td>\n",
       "      <td>Divorced</td>\n",
       "      <td>Handlers-cleaners</td>\n",
       "      <td>Not-in-family</td>\n",
       "      <td>White</td>\n",
       "      <td>Male</td>\n",
       "      <td>0</td>\n",
       "      <td>0</td>\n",
       "      <td>40</td>\n",
       "      <td>United-States</td>\n",
       "      <td>&lt;=50K</td>\n",
       "    </tr>\n",
       "    <tr>\n",
       "      <th>3</th>\n",
       "      <td>53</td>\n",
       "      <td>Private</td>\n",
       "      <td>234721</td>\n",
       "      <td>11th</td>\n",
       "      <td>7</td>\n",
       "      <td>Married-civ-spouse</td>\n",
       "      <td>Handlers-cleaners</td>\n",
       "      <td>Husband</td>\n",
       "      <td>Black</td>\n",
       "      <td>Male</td>\n",
       "      <td>0</td>\n",
       "      <td>0</td>\n",
       "      <td>40</td>\n",
       "      <td>United-States</td>\n",
       "      <td>&lt;=50K</td>\n",
       "    </tr>\n",
       "    <tr>\n",
       "      <th>4</th>\n",
       "      <td>28</td>\n",
       "      <td>Private</td>\n",
       "      <td>338409</td>\n",
       "      <td>Bachelors</td>\n",
       "      <td>13</td>\n",
       "      <td>Married-civ-spouse</td>\n",
       "      <td>Prof-specialty</td>\n",
       "      <td>Wife</td>\n",
       "      <td>Black</td>\n",
       "      <td>Female</td>\n",
       "      <td>0</td>\n",
       "      <td>0</td>\n",
       "      <td>40</td>\n",
       "      <td>Cuba</td>\n",
       "      <td>&lt;=50K</td>\n",
       "    </tr>\n",
       "  </tbody>\n",
       "</table>\n",
       "</div>"
      ],
      "text/plain": [
       "   Age          WorkClass  Fnlwgt   Education  Education_Num  \\\n",
       "0   39          State-gov   77516   Bachelors             13   \n",
       "1   50   Self-emp-not-inc   83311   Bachelors             13   \n",
       "2   38            Private  215646     HS-grad              9   \n",
       "3   53            Private  234721        11th              7   \n",
       "4   28            Private  338409   Bachelors             13   \n",
       "\n",
       "        Marital_Status          Occupation    Relationship    Race   Gender  \\\n",
       "0        Never-married        Adm-clerical   Not-in-family   White     Male   \n",
       "1   Married-civ-spouse     Exec-managerial         Husband   White     Male   \n",
       "2             Divorced   Handlers-cleaners   Not-in-family   White     Male   \n",
       "3   Married-civ-spouse   Handlers-cleaners         Husband   Black     Male   \n",
       "4   Married-civ-spouse      Prof-specialty            Wife   Black   Female   \n",
       "\n",
       "   Capital_Gain  Capital_Loss  Hours_Per_Week  Native_Country Income_Bracket  \n",
       "0          2174             0              40   United-States          <=50K  \n",
       "1             0             0              13   United-States          <=50K  \n",
       "2             0             0              40   United-States          <=50K  \n",
       "3             0             0              40   United-States          <=50K  \n",
       "4             0             0              40            Cuba          <=50K  "
      ]
     },
     "execution_count": 3,
     "metadata": {},
     "output_type": "execute_result"
    }
   ],
   "source": [
    "df.head()  # to show first 5 rows od dataframe"
   ]
  },
  {
   "cell_type": "code",
   "execution_count": 4,
   "id": "79b26f68",
   "metadata": {},
   "outputs": [
    {
     "data": {
      "text/plain": [
       "(32561, 15)"
      ]
     },
     "execution_count": 4,
     "metadata": {},
     "output_type": "execute_result"
    }
   ],
   "source": [
    "#3. Check the structure of data \n",
    "df.shape   # there are 32561 rows and 15 columns "
   ]
  },
  {
   "cell_type": "code",
   "execution_count": 5,
   "id": "5a6d88fd",
   "metadata": {},
   "outputs": [
    {
     "data": {
      "text/html": [
       "<div>\n",
       "<style scoped>\n",
       "    .dataframe tbody tr th:only-of-type {\n",
       "        vertical-align: middle;\n",
       "    }\n",
       "\n",
       "    .dataframe tbody tr th {\n",
       "        vertical-align: top;\n",
       "    }\n",
       "\n",
       "    .dataframe thead th {\n",
       "        text-align: right;\n",
       "    }\n",
       "</style>\n",
       "<table border=\"1\" class=\"dataframe\">\n",
       "  <thead>\n",
       "    <tr style=\"text-align: right;\">\n",
       "      <th></th>\n",
       "      <th>count</th>\n",
       "      <th>mean</th>\n",
       "      <th>std</th>\n",
       "      <th>min</th>\n",
       "      <th>25%</th>\n",
       "      <th>50%</th>\n",
       "      <th>75%</th>\n",
       "      <th>max</th>\n",
       "    </tr>\n",
       "  </thead>\n",
       "  <tbody>\n",
       "    <tr>\n",
       "      <th>Age</th>\n",
       "      <td>32561.0</td>\n",
       "      <td>38.581647</td>\n",
       "      <td>13.640433</td>\n",
       "      <td>17.0</td>\n",
       "      <td>28.0</td>\n",
       "      <td>37.0</td>\n",
       "      <td>48.0</td>\n",
       "      <td>90.0</td>\n",
       "    </tr>\n",
       "    <tr>\n",
       "      <th>Fnlwgt</th>\n",
       "      <td>32561.0</td>\n",
       "      <td>189778.366512</td>\n",
       "      <td>105549.977697</td>\n",
       "      <td>12285.0</td>\n",
       "      <td>117827.0</td>\n",
       "      <td>178356.0</td>\n",
       "      <td>237051.0</td>\n",
       "      <td>1484705.0</td>\n",
       "    </tr>\n",
       "    <tr>\n",
       "      <th>Education_Num</th>\n",
       "      <td>32561.0</td>\n",
       "      <td>10.080679</td>\n",
       "      <td>2.572720</td>\n",
       "      <td>1.0</td>\n",
       "      <td>9.0</td>\n",
       "      <td>10.0</td>\n",
       "      <td>12.0</td>\n",
       "      <td>16.0</td>\n",
       "    </tr>\n",
       "    <tr>\n",
       "      <th>Capital_Gain</th>\n",
       "      <td>32561.0</td>\n",
       "      <td>1077.648844</td>\n",
       "      <td>7385.292085</td>\n",
       "      <td>0.0</td>\n",
       "      <td>0.0</td>\n",
       "      <td>0.0</td>\n",
       "      <td>0.0</td>\n",
       "      <td>99999.0</td>\n",
       "    </tr>\n",
       "    <tr>\n",
       "      <th>Capital_Loss</th>\n",
       "      <td>32561.0</td>\n",
       "      <td>87.303830</td>\n",
       "      <td>402.960219</td>\n",
       "      <td>0.0</td>\n",
       "      <td>0.0</td>\n",
       "      <td>0.0</td>\n",
       "      <td>0.0</td>\n",
       "      <td>4356.0</td>\n",
       "    </tr>\n",
       "    <tr>\n",
       "      <th>Hours_Per_Week</th>\n",
       "      <td>32561.0</td>\n",
       "      <td>40.437456</td>\n",
       "      <td>12.347429</td>\n",
       "      <td>1.0</td>\n",
       "      <td>40.0</td>\n",
       "      <td>40.0</td>\n",
       "      <td>45.0</td>\n",
       "      <td>99.0</td>\n",
       "    </tr>\n",
       "  </tbody>\n",
       "</table>\n",
       "</div>"
      ],
      "text/plain": [
       "                  count           mean            std      min       25%  \\\n",
       "Age             32561.0      38.581647      13.640433     17.0      28.0   \n",
       "Fnlwgt          32561.0  189778.366512  105549.977697  12285.0  117827.0   \n",
       "Education_Num   32561.0      10.080679       2.572720      1.0       9.0   \n",
       "Capital_Gain    32561.0    1077.648844    7385.292085      0.0       0.0   \n",
       "Capital_Loss    32561.0      87.303830     402.960219      0.0       0.0   \n",
       "Hours_Per_Week  32561.0      40.437456      12.347429      1.0      40.0   \n",
       "\n",
       "                     50%       75%        max  \n",
       "Age                 37.0      48.0       90.0  \n",
       "Fnlwgt          178356.0  237051.0  1484705.0  \n",
       "Education_Num       10.0      12.0       16.0  \n",
       "Capital_Gain         0.0       0.0    99999.0  \n",
       "Capital_Loss         0.0       0.0     4356.0  \n",
       "Hours_Per_Week      40.0      45.0       99.0  "
      ]
     },
     "execution_count": 5,
     "metadata": {},
     "output_type": "execute_result"
    }
   ],
   "source": [
    "# Summarise the data \n",
    "df.describe().T # calculate mean and sd "
   ]
  },
  {
   "cell_type": "markdown",
   "id": "8e82742e",
   "metadata": {},
   "source": [
    "# Task 2 : Data Preparation and visualization"
   ]
  },
  {
   "cell_type": "code",
   "execution_count": 6,
   "id": "3984309c",
   "metadata": {},
   "outputs": [
    {
     "data": {
      "text/plain": [
       "Age               0\n",
       "WorkClass         0\n",
       "Fnlwgt            0\n",
       "Education         0\n",
       "Education_Num     0\n",
       "Marital_Status    0\n",
       "Occupation        0\n",
       "Relationship      0\n",
       "Race              0\n",
       "Gender            0\n",
       "Capital_Gain      0\n",
       "Capital_Loss      0\n",
       "Hours_Per_Week    0\n",
       "Native_Country    0\n",
       "Income_Bracket    0\n",
       "dtype: int64"
      ]
     },
     "execution_count": 6,
     "metadata": {},
     "output_type": "execute_result"
    }
   ],
   "source": [
    "#1. Check if there is any missing values\n",
    "df.isnull().sum()"
   ]
  },
  {
   "cell_type": "code",
   "execution_count": 7,
   "id": "761d7652",
   "metadata": {},
   "outputs": [],
   "source": [
    "#2. Perform missing value treatment\n",
    "# there is no missing values so we dont need to missing value treatment"
   ]
  },
  {
   "cell_type": "code",
   "execution_count": 8,
   "id": "e7c3e970",
   "metadata": {},
   "outputs": [
    {
     "data": {
      "text/plain": [
       "Age                int64\n",
       "WorkClass         object\n",
       "Fnlwgt             int64\n",
       "Education         object\n",
       "Education_Num      int64\n",
       "Marital_Status    object\n",
       "Occupation        object\n",
       "Relationship      object\n",
       "Race              object\n",
       "Gender            object\n",
       "Capital_Gain       int64\n",
       "Capital_Loss       int64\n",
       "Hours_Per_Week     int64\n",
       "Native_Country    object\n",
       "Income_Bracket    object\n",
       "dtype: object"
      ]
     },
     "execution_count": 8,
     "metadata": {},
     "output_type": "execute_result"
    }
   ],
   "source": [
    "df.dtypes"
   ]
  },
  {
   "cell_type": "code",
   "execution_count": 9,
   "id": "e215446b",
   "metadata": {},
   "outputs": [],
   "source": [
    "#4.  Encode categorical variables\n",
    "from sklearn.preprocessing import LabelEncoder   # used to convert object to int or convert into reqiured data type\n",
    "le = LabelEncoder()                              # store the function labelencoder\n",
    "df = df.apply(le.fit_transform)                  "
   ]
  },
  {
   "cell_type": "code",
   "execution_count": 10,
   "id": "2fb998f0",
   "metadata": {},
   "outputs": [
    {
     "data": {
      "text/html": [
       "<div>\n",
       "<style scoped>\n",
       "    .dataframe tbody tr th:only-of-type {\n",
       "        vertical-align: middle;\n",
       "    }\n",
       "\n",
       "    .dataframe tbody tr th {\n",
       "        vertical-align: top;\n",
       "    }\n",
       "\n",
       "    .dataframe thead th {\n",
       "        text-align: right;\n",
       "    }\n",
       "</style>\n",
       "<table border=\"1\" class=\"dataframe\">\n",
       "  <thead>\n",
       "    <tr style=\"text-align: right;\">\n",
       "      <th></th>\n",
       "      <th>Age</th>\n",
       "      <th>WorkClass</th>\n",
       "      <th>Fnlwgt</th>\n",
       "      <th>Education</th>\n",
       "      <th>Education_Num</th>\n",
       "      <th>Marital_Status</th>\n",
       "      <th>Occupation</th>\n",
       "      <th>Relationship</th>\n",
       "      <th>Race</th>\n",
       "      <th>Gender</th>\n",
       "      <th>Capital_Gain</th>\n",
       "      <th>Capital_Loss</th>\n",
       "      <th>Hours_Per_Week</th>\n",
       "      <th>Native_Country</th>\n",
       "      <th>Income_Bracket</th>\n",
       "    </tr>\n",
       "  </thead>\n",
       "  <tbody>\n",
       "    <tr>\n",
       "      <th>Age</th>\n",
       "      <td>1.000000</td>\n",
       "      <td>0.003831</td>\n",
       "      <td>-0.078463</td>\n",
       "      <td>-0.010499</td>\n",
       "      <td>0.036548</td>\n",
       "      <td>-0.266429</td>\n",
       "      <td>-0.020930</td>\n",
       "      <td>-0.263783</td>\n",
       "      <td>0.028752</td>\n",
       "      <td>0.088863</td>\n",
       "      <td>0.125916</td>\n",
       "      <td>0.065058</td>\n",
       "      <td>0.069123</td>\n",
       "      <td>-0.001145</td>\n",
       "      <td>0.234134</td>\n",
       "    </tr>\n",
       "    <tr>\n",
       "      <th>WorkClass</th>\n",
       "      <td>0.003831</td>\n",
       "      <td>1.000000</td>\n",
       "      <td>-0.018443</td>\n",
       "      <td>0.023513</td>\n",
       "      <td>0.052085</td>\n",
       "      <td>-0.064731</td>\n",
       "      <td>0.254892</td>\n",
       "      <td>-0.090461</td>\n",
       "      <td>0.049742</td>\n",
       "      <td>0.095981</td>\n",
       "      <td>0.029347</td>\n",
       "      <td>0.015615</td>\n",
       "      <td>0.139541</td>\n",
       "      <td>-0.007690</td>\n",
       "      <td>0.051604</td>\n",
       "    </tr>\n",
       "    <tr>\n",
       "      <th>Fnlwgt</th>\n",
       "      <td>-0.078463</td>\n",
       "      <td>-0.018443</td>\n",
       "      <td>1.000000</td>\n",
       "      <td>-0.027068</td>\n",
       "      <td>-0.042849</td>\n",
       "      <td>0.030125</td>\n",
       "      <td>0.003469</td>\n",
       "      <td>0.007016</td>\n",
       "      <td>-0.008979</td>\n",
       "      <td>0.025758</td>\n",
       "      <td>-0.004592</td>\n",
       "      <td>-0.009903</td>\n",
       "      <td>-0.019167</td>\n",
       "      <td>-0.057048</td>\n",
       "      <td>-0.010549</td>\n",
       "    </tr>\n",
       "    <tr>\n",
       "      <th>Education</th>\n",
       "      <td>-0.010499</td>\n",
       "      <td>0.023513</td>\n",
       "      <td>-0.027068</td>\n",
       "      <td>1.000000</td>\n",
       "      <td>0.359153</td>\n",
       "      <td>-0.038407</td>\n",
       "      <td>-0.021260</td>\n",
       "      <td>-0.010876</td>\n",
       "      <td>0.014131</td>\n",
       "      <td>-0.027356</td>\n",
       "      <td>0.031383</td>\n",
       "      <td>0.016113</td>\n",
       "      <td>0.056295</td>\n",
       "      <td>0.064288</td>\n",
       "      <td>0.079317</td>\n",
       "    </tr>\n",
       "    <tr>\n",
       "      <th>Education_Num</th>\n",
       "      <td>0.036548</td>\n",
       "      <td>0.052085</td>\n",
       "      <td>-0.042849</td>\n",
       "      <td>0.359153</td>\n",
       "      <td>1.000000</td>\n",
       "      <td>-0.069304</td>\n",
       "      <td>0.109697</td>\n",
       "      <td>-0.094153</td>\n",
       "      <td>0.031838</td>\n",
       "      <td>0.012280</td>\n",
       "      <td>0.154410</td>\n",
       "      <td>0.084166</td>\n",
       "      <td>0.150094</td>\n",
       "      <td>0.050840</td>\n",
       "      <td>0.335154</td>\n",
       "    </tr>\n",
       "    <tr>\n",
       "      <th>Marital_Status</th>\n",
       "      <td>-0.266429</td>\n",
       "      <td>-0.064731</td>\n",
       "      <td>0.030125</td>\n",
       "      <td>-0.038407</td>\n",
       "      <td>-0.069304</td>\n",
       "      <td>1.000000</td>\n",
       "      <td>-0.009654</td>\n",
       "      <td>0.185451</td>\n",
       "      <td>-0.068013</td>\n",
       "      <td>-0.129314</td>\n",
       "      <td>-0.075138</td>\n",
       "      <td>-0.035240</td>\n",
       "      <td>-0.192645</td>\n",
       "      <td>-0.023819</td>\n",
       "      <td>-0.199307</td>\n",
       "    </tr>\n",
       "    <tr>\n",
       "      <th>Occupation</th>\n",
       "      <td>-0.020930</td>\n",
       "      <td>0.254892</td>\n",
       "      <td>0.003469</td>\n",
       "      <td>-0.021260</td>\n",
       "      <td>0.109697</td>\n",
       "      <td>-0.009654</td>\n",
       "      <td>1.000000</td>\n",
       "      <td>-0.075607</td>\n",
       "      <td>0.006763</td>\n",
       "      <td>0.080296</td>\n",
       "      <td>0.026252</td>\n",
       "      <td>0.017342</td>\n",
       "      <td>0.080621</td>\n",
       "      <td>-0.012543</td>\n",
       "      <td>0.075468</td>\n",
       "    </tr>\n",
       "    <tr>\n",
       "      <th>Relationship</th>\n",
       "      <td>-0.263783</td>\n",
       "      <td>-0.090461</td>\n",
       "      <td>0.007016</td>\n",
       "      <td>-0.010876</td>\n",
       "      <td>-0.094153</td>\n",
       "      <td>0.185451</td>\n",
       "      <td>-0.075607</td>\n",
       "      <td>1.000000</td>\n",
       "      <td>-0.116055</td>\n",
       "      <td>-0.582454</td>\n",
       "      <td>-0.093147</td>\n",
       "      <td>-0.064284</td>\n",
       "      <td>-0.251352</td>\n",
       "      <td>-0.005507</td>\n",
       "      <td>-0.250918</td>\n",
       "    </tr>\n",
       "    <tr>\n",
       "      <th>Race</th>\n",
       "      <td>0.028752</td>\n",
       "      <td>0.049742</td>\n",
       "      <td>-0.008979</td>\n",
       "      <td>0.014131</td>\n",
       "      <td>0.031838</td>\n",
       "      <td>-0.068013</td>\n",
       "      <td>0.006763</td>\n",
       "      <td>-0.116055</td>\n",
       "      <td>1.000000</td>\n",
       "      <td>0.087204</td>\n",
       "      <td>0.024960</td>\n",
       "      <td>0.019363</td>\n",
       "      <td>0.042318</td>\n",
       "      <td>0.137852</td>\n",
       "      <td>0.071846</td>\n",
       "    </tr>\n",
       "    <tr>\n",
       "      <th>Gender</th>\n",
       "      <td>0.088863</td>\n",
       "      <td>0.095981</td>\n",
       "      <td>0.025758</td>\n",
       "      <td>-0.027356</td>\n",
       "      <td>0.012280</td>\n",
       "      <td>-0.129314</td>\n",
       "      <td>0.080296</td>\n",
       "      <td>-0.582454</td>\n",
       "      <td>0.087204</td>\n",
       "      <td>1.000000</td>\n",
       "      <td>0.077589</td>\n",
       "      <td>0.049544</td>\n",
       "      <td>0.231355</td>\n",
       "      <td>-0.008119</td>\n",
       "      <td>0.215980</td>\n",
       "    </tr>\n",
       "    <tr>\n",
       "      <th>Capital_Gain</th>\n",
       "      <td>0.125916</td>\n",
       "      <td>0.029347</td>\n",
       "      <td>-0.004592</td>\n",
       "      <td>0.031383</td>\n",
       "      <td>0.154410</td>\n",
       "      <td>-0.075138</td>\n",
       "      <td>0.026252</td>\n",
       "      <td>-0.093147</td>\n",
       "      <td>0.024960</td>\n",
       "      <td>0.077589</td>\n",
       "      <td>1.000000</td>\n",
       "      <td>-0.056970</td>\n",
       "      <td>0.101365</td>\n",
       "      <td>0.006940</td>\n",
       "      <td>0.340016</td>\n",
       "    </tr>\n",
       "    <tr>\n",
       "      <th>Capital_Loss</th>\n",
       "      <td>0.065058</td>\n",
       "      <td>0.015615</td>\n",
       "      <td>-0.009903</td>\n",
       "      <td>0.016113</td>\n",
       "      <td>0.084166</td>\n",
       "      <td>-0.035240</td>\n",
       "      <td>0.017342</td>\n",
       "      <td>-0.064284</td>\n",
       "      <td>0.019363</td>\n",
       "      <td>0.049544</td>\n",
       "      <td>-0.056970</td>\n",
       "      <td>1.000000</td>\n",
       "      <td>0.058826</td>\n",
       "      <td>0.001368</td>\n",
       "      <td>0.162514</td>\n",
       "    </tr>\n",
       "    <tr>\n",
       "      <th>Hours_Per_Week</th>\n",
       "      <td>0.069123</td>\n",
       "      <td>0.139541</td>\n",
       "      <td>-0.019167</td>\n",
       "      <td>0.056295</td>\n",
       "      <td>0.150094</td>\n",
       "      <td>-0.192645</td>\n",
       "      <td>0.080621</td>\n",
       "      <td>-0.251352</td>\n",
       "      <td>0.042318</td>\n",
       "      <td>0.231355</td>\n",
       "      <td>0.101365</td>\n",
       "      <td>0.058826</td>\n",
       "      <td>1.000000</td>\n",
       "      <td>-0.002761</td>\n",
       "      <td>0.232393</td>\n",
       "    </tr>\n",
       "    <tr>\n",
       "      <th>Native_Country</th>\n",
       "      <td>-0.001145</td>\n",
       "      <td>-0.007690</td>\n",
       "      <td>-0.057048</td>\n",
       "      <td>0.064288</td>\n",
       "      <td>0.050840</td>\n",
       "      <td>-0.023819</td>\n",
       "      <td>-0.012543</td>\n",
       "      <td>-0.005507</td>\n",
       "      <td>0.137852</td>\n",
       "      <td>-0.008119</td>\n",
       "      <td>0.006940</td>\n",
       "      <td>0.001368</td>\n",
       "      <td>-0.002761</td>\n",
       "      <td>1.000000</td>\n",
       "      <td>0.015840</td>\n",
       "    </tr>\n",
       "    <tr>\n",
       "      <th>Income_Bracket</th>\n",
       "      <td>0.234134</td>\n",
       "      <td>0.051604</td>\n",
       "      <td>-0.010549</td>\n",
       "      <td>0.079317</td>\n",
       "      <td>0.335154</td>\n",
       "      <td>-0.199307</td>\n",
       "      <td>0.075468</td>\n",
       "      <td>-0.250918</td>\n",
       "      <td>0.071846</td>\n",
       "      <td>0.215980</td>\n",
       "      <td>0.340016</td>\n",
       "      <td>0.162514</td>\n",
       "      <td>0.232393</td>\n",
       "      <td>0.015840</td>\n",
       "      <td>1.000000</td>\n",
       "    </tr>\n",
       "  </tbody>\n",
       "</table>\n",
       "</div>"
      ],
      "text/plain": [
       "                     Age  WorkClass    Fnlwgt  Education  Education_Num  \\\n",
       "Age             1.000000   0.003831 -0.078463  -0.010499       0.036548   \n",
       "WorkClass       0.003831   1.000000 -0.018443   0.023513       0.052085   \n",
       "Fnlwgt         -0.078463  -0.018443  1.000000  -0.027068      -0.042849   \n",
       "Education      -0.010499   0.023513 -0.027068   1.000000       0.359153   \n",
       "Education_Num   0.036548   0.052085 -0.042849   0.359153       1.000000   \n",
       "Marital_Status -0.266429  -0.064731  0.030125  -0.038407      -0.069304   \n",
       "Occupation     -0.020930   0.254892  0.003469  -0.021260       0.109697   \n",
       "Relationship   -0.263783  -0.090461  0.007016  -0.010876      -0.094153   \n",
       "Race            0.028752   0.049742 -0.008979   0.014131       0.031838   \n",
       "Gender          0.088863   0.095981  0.025758  -0.027356       0.012280   \n",
       "Capital_Gain    0.125916   0.029347 -0.004592   0.031383       0.154410   \n",
       "Capital_Loss    0.065058   0.015615 -0.009903   0.016113       0.084166   \n",
       "Hours_Per_Week  0.069123   0.139541 -0.019167   0.056295       0.150094   \n",
       "Native_Country -0.001145  -0.007690 -0.057048   0.064288       0.050840   \n",
       "Income_Bracket  0.234134   0.051604 -0.010549   0.079317       0.335154   \n",
       "\n",
       "                Marital_Status  Occupation  Relationship      Race    Gender  \\\n",
       "Age                  -0.266429   -0.020930     -0.263783  0.028752  0.088863   \n",
       "WorkClass            -0.064731    0.254892     -0.090461  0.049742  0.095981   \n",
       "Fnlwgt                0.030125    0.003469      0.007016 -0.008979  0.025758   \n",
       "Education            -0.038407   -0.021260     -0.010876  0.014131 -0.027356   \n",
       "Education_Num        -0.069304    0.109697     -0.094153  0.031838  0.012280   \n",
       "Marital_Status        1.000000   -0.009654      0.185451 -0.068013 -0.129314   \n",
       "Occupation           -0.009654    1.000000     -0.075607  0.006763  0.080296   \n",
       "Relationship          0.185451   -0.075607      1.000000 -0.116055 -0.582454   \n",
       "Race                 -0.068013    0.006763     -0.116055  1.000000  0.087204   \n",
       "Gender               -0.129314    0.080296     -0.582454  0.087204  1.000000   \n",
       "Capital_Gain         -0.075138    0.026252     -0.093147  0.024960  0.077589   \n",
       "Capital_Loss         -0.035240    0.017342     -0.064284  0.019363  0.049544   \n",
       "Hours_Per_Week       -0.192645    0.080621     -0.251352  0.042318  0.231355   \n",
       "Native_Country       -0.023819   -0.012543     -0.005507  0.137852 -0.008119   \n",
       "Income_Bracket       -0.199307    0.075468     -0.250918  0.071846  0.215980   \n",
       "\n",
       "                Capital_Gain  Capital_Loss  Hours_Per_Week  Native_Country  \\\n",
       "Age                 0.125916      0.065058        0.069123       -0.001145   \n",
       "WorkClass           0.029347      0.015615        0.139541       -0.007690   \n",
       "Fnlwgt             -0.004592     -0.009903       -0.019167       -0.057048   \n",
       "Education           0.031383      0.016113        0.056295        0.064288   \n",
       "Education_Num       0.154410      0.084166        0.150094        0.050840   \n",
       "Marital_Status     -0.075138     -0.035240       -0.192645       -0.023819   \n",
       "Occupation          0.026252      0.017342        0.080621       -0.012543   \n",
       "Relationship       -0.093147     -0.064284       -0.251352       -0.005507   \n",
       "Race                0.024960      0.019363        0.042318        0.137852   \n",
       "Gender              0.077589      0.049544        0.231355       -0.008119   \n",
       "Capital_Gain        1.000000     -0.056970        0.101365        0.006940   \n",
       "Capital_Loss       -0.056970      1.000000        0.058826        0.001368   \n",
       "Hours_Per_Week      0.101365      0.058826        1.000000       -0.002761   \n",
       "Native_Country      0.006940      0.001368       -0.002761        1.000000   \n",
       "Income_Bracket      0.340016      0.162514        0.232393        0.015840   \n",
       "\n",
       "                Income_Bracket  \n",
       "Age                   0.234134  \n",
       "WorkClass             0.051604  \n",
       "Fnlwgt               -0.010549  \n",
       "Education             0.079317  \n",
       "Education_Num         0.335154  \n",
       "Marital_Status       -0.199307  \n",
       "Occupation            0.075468  \n",
       "Relationship         -0.250918  \n",
       "Race                  0.071846  \n",
       "Gender                0.215980  \n",
       "Capital_Gain          0.340016  \n",
       "Capital_Loss          0.162514  \n",
       "Hours_Per_Week        0.232393  \n",
       "Native_Country        0.015840  \n",
       "Income_Bracket        1.000000  "
      ]
     },
     "execution_count": 10,
     "metadata": {},
     "output_type": "execute_result"
    }
   ],
   "source": [
    "# 5. Perform the data scaling\n",
    "column_correlation = df.corr()\n",
    "column_correlation"
   ]
  },
  {
   "cell_type": "code",
   "execution_count": 18,
   "id": "2d704a2e",
   "metadata": {},
   "outputs": [
    {
     "data": {
      "image/png": "[encoded data removed]",
      "text/plain": [
       "<Figure size 800x400 with 2 Axes>"
      ]
     },
     "metadata": {},
     "output_type": "display_data"
    }
   ],
   "source": [
    "import matplotlib.pyplot as plt\n",
    "import seaborn as sns\n",
    "\n",
    "\n",
    "df_scaled = column_correlation[['Age', 'Education_Num', 'Marital_Status','Relationship','Capital_Gain','Hours_Per_Week', 'Income_Bracket']]\n",
    "fig, ax = plt.subplots(figsize=(8,4))\n",
    "sns.heatmap(df_scaled.corr(),annot=True,linewidths=.5,  cmap = \"viridis\")\n",
    "plt.show()"
   ]
  },
  {
   "cell_type": "markdown",
   "id": "233c2d2c",
   "metadata": {},
   "source": [
    "# Task 3 : Train the model "
   ]
  },
  {
   "cell_type": "code",
   "execution_count": 39,
   "id": "a8c7d05a",
   "metadata": {},
   "outputs": [],
   "source": [
    "X = df.loc[:,['Age', 'Education_Num', 'Marital_Status','Relationship','Capital_Gain','Hours_Per_Week']]            # storing into x and y\n",
    "y = df.loc[:,['Income_Bracket']]"
   ]
  },
  {
   "cell_type": "code",
   "execution_count": 40,
   "id": "5142dbf2",
   "metadata": {},
   "outputs": [
    {
     "data": {
      "text/html": [
       "<div>\n",
       "<style scoped>\n",
       "    .dataframe tbody tr th:only-of-type {\n",
       "        vertical-align: middle;\n",
       "    }\n",
       "\n",
       "    .dataframe tbody tr th {\n",
       "        vertical-align: top;\n",
       "    }\n",
       "\n",
       "    .dataframe thead th {\n",
       "        text-align: right;\n",
       "    }\n",
       "</style>\n",
       "<table border=\"1\" class=\"dataframe\">\n",
       "  <thead>\n",
       "    <tr style=\"text-align: right;\">\n",
       "      <th></th>\n",
       "      <th>Age</th>\n",
       "      <th>Education_Num</th>\n",
       "      <th>Marital_Status</th>\n",
       "      <th>Relationship</th>\n",
       "      <th>Capital_Gain</th>\n",
       "      <th>Hours_Per_Week</th>\n",
       "    </tr>\n",
       "  </thead>\n",
       "  <tbody>\n",
       "    <tr>\n",
       "      <th>0</th>\n",
       "      <td>22</td>\n",
       "      <td>12</td>\n",
       "      <td>4</td>\n",
       "      <td>1</td>\n",
       "      <td>25</td>\n",
       "      <td>39</td>\n",
       "    </tr>\n",
       "    <tr>\n",
       "      <th>1</th>\n",
       "      <td>33</td>\n",
       "      <td>12</td>\n",
       "      <td>2</td>\n",
       "      <td>0</td>\n",
       "      <td>0</td>\n",
       "      <td>12</td>\n",
       "    </tr>\n",
       "    <tr>\n",
       "      <th>2</th>\n",
       "      <td>21</td>\n",
       "      <td>8</td>\n",
       "      <td>0</td>\n",
       "      <td>1</td>\n",
       "      <td>0</td>\n",
       "      <td>39</td>\n",
       "    </tr>\n",
       "    <tr>\n",
       "      <th>3</th>\n",
       "      <td>36</td>\n",
       "      <td>6</td>\n",
       "      <td>2</td>\n",
       "      <td>0</td>\n",
       "      <td>0</td>\n",
       "      <td>39</td>\n",
       "    </tr>\n",
       "    <tr>\n",
       "      <th>4</th>\n",
       "      <td>11</td>\n",
       "      <td>12</td>\n",
       "      <td>2</td>\n",
       "      <td>5</td>\n",
       "      <td>0</td>\n",
       "      <td>39</td>\n",
       "    </tr>\n",
       "    <tr>\n",
       "      <th>...</th>\n",
       "      <td>...</td>\n",
       "      <td>...</td>\n",
       "      <td>...</td>\n",
       "      <td>...</td>\n",
       "      <td>...</td>\n",
       "      <td>...</td>\n",
       "    </tr>\n",
       "    <tr>\n",
       "      <th>32556</th>\n",
       "      <td>10</td>\n",
       "      <td>11</td>\n",
       "      <td>2</td>\n",
       "      <td>5</td>\n",
       "      <td>0</td>\n",
       "      <td>37</td>\n",
       "    </tr>\n",
       "    <tr>\n",
       "      <th>32557</th>\n",
       "      <td>23</td>\n",
       "      <td>8</td>\n",
       "      <td>2</td>\n",
       "      <td>0</td>\n",
       "      <td>0</td>\n",
       "      <td>39</td>\n",
       "    </tr>\n",
       "    <tr>\n",
       "      <th>32558</th>\n",
       "      <td>41</td>\n",
       "      <td>8</td>\n",
       "      <td>6</td>\n",
       "      <td>4</td>\n",
       "      <td>0</td>\n",
       "      <td>39</td>\n",
       "    </tr>\n",
       "    <tr>\n",
       "      <th>32559</th>\n",
       "      <td>5</td>\n",
       "      <td>8</td>\n",
       "      <td>4</td>\n",
       "      <td>3</td>\n",
       "      <td>0</td>\n",
       "      <td>19</td>\n",
       "    </tr>\n",
       "    <tr>\n",
       "      <th>32560</th>\n",
       "      <td>35</td>\n",
       "      <td>8</td>\n",
       "      <td>2</td>\n",
       "      <td>5</td>\n",
       "      <td>108</td>\n",
       "      <td>39</td>\n",
       "    </tr>\n",
       "  </tbody>\n",
       "</table>\n",
       "<p>32561 rows × 6 columns</p>\n",
       "</div>"
      ],
      "text/plain": [
       "       Age  Education_Num  Marital_Status  Relationship  Capital_Gain  \\\n",
       "0       22             12               4             1            25   \n",
       "1       33             12               2             0             0   \n",
       "2       21              8               0             1             0   \n",
       "3       36              6               2             0             0   \n",
       "4       11             12               2             5             0   \n",
       "...    ...            ...             ...           ...           ...   \n",
       "32556   10             11               2             5             0   \n",
       "32557   23              8               2             0             0   \n",
       "32558   41              8               6             4             0   \n",
       "32559    5              8               4             3             0   \n",
       "32560   35              8               2             5           108   \n",
       "\n",
       "       Hours_Per_Week  \n",
       "0                  39  \n",
       "1                  12  \n",
       "2                  39  \n",
       "3                  39  \n",
       "4                  39  \n",
       "...               ...  \n",
       "32556              37  \n",
       "32557              39  \n",
       "32558              39  \n",
       "32559              19  \n",
       "32560              39  \n",
       "\n",
       "[32561 rows x 6 columns]"
      ]
     },
     "execution_count": 40,
     "metadata": {},
     "output_type": "execute_result"
    }
   ],
   "source": [
    "X"
   ]
  },
  {
   "cell_type": "markdown",
   "id": "79d444a5",
   "metadata": {},
   "source": [
    "# Split the data into train and test"
   ]
  },
  {
   "cell_type": "code",
   "execution_count": 41,
   "id": "8475c7e4",
   "metadata": {},
   "outputs": [],
   "source": [
    "from sklearn.model_selection import train_test_split   # for splitting the data into train\n",
    "X_train, X_test, y_train, y_test = train_test_split(X, y, test_size=0.2,random_state=42)   \n"
   ]
  },
  {
   "cell_type": "code",
   "execution_count": 42,
   "id": "1caf907f",
   "metadata": {},
   "outputs": [
    {
     "data": {
      "text/plain": [
       "(26048, 6)"
      ]
     },
     "execution_count": 42,
     "metadata": {},
     "output_type": "execute_result"
    }
   ],
   "source": [
    "X_train.shape "
   ]
  },
  {
   "cell_type": "code",
   "execution_count": 43,
   "id": "31b6283a",
   "metadata": {},
   "outputs": [
    {
     "data": {
      "text/plain": [
       "(6513, 6)"
      ]
     },
     "execution_count": 43,
     "metadata": {},
     "output_type": "execute_result"
    }
   ],
   "source": [
    "X_test.shape"
   ]
  },
  {
   "cell_type": "code",
   "execution_count": 44,
   "id": "ae01ebe4",
   "metadata": {},
   "outputs": [
    {
     "data": {
      "text/plain": [
       "(26048, 1)"
      ]
     },
     "execution_count": 44,
     "metadata": {},
     "output_type": "execute_result"
    }
   ],
   "source": [
    "y_train.shape "
   ]
  },
  {
   "cell_type": "code",
   "execution_count": 45,
   "id": "59cd7faa",
   "metadata": {},
   "outputs": [
    {
     "data": {
      "text/plain": [
       "(6513, 1)"
      ]
     },
     "execution_count": 45,
     "metadata": {},
     "output_type": "execute_result"
    }
   ],
   "source": [
    "y_test.shape"
   ]
  },
  {
   "cell_type": "markdown",
   "id": "e0acb1a2",
   "metadata": {},
   "source": [
    "# Scaling"
   ]
  },
  {
   "cell_type": "code",
   "execution_count": 46,
   "id": "d7c8fe21",
   "metadata": {},
   "outputs": [
    {
     "data": {
      "text/plain": [
       "array([[0.13888889, 0.6       , 0.        , 0.2       , 0.        ,\n",
       "        0.39784946],\n",
       "       [0.38888889, 0.53333333, 0.33333333, 1.        , 0.        ,\n",
       "        0.41935484],\n",
       "       [0.16666667, 0.8       , 0.33333333, 0.        , 0.        ,\n",
       "        0.58064516],\n",
       "       ...,\n",
       "       [0.41666667, 0.93333333, 0.33333333, 0.        , 1.        ,\n",
       "        0.50537634],\n",
       "       [0.13888889, 0.8       , 0.66666667, 0.2       , 0.        ,\n",
       "        0.41935484],\n",
       "       [0.01388889, 0.53333333, 0.66666667, 0.2       , 0.        ,\n",
       "        0.25806452]])"
      ]
     },
     "execution_count": 46,
     "metadata": {},
     "output_type": "execute_result"
    }
   ],
   "source": [
    "# scaling the data using MinMax Scaling process\n",
    "from sklearn.preprocessing import StandardScaler,MinMaxScaler  \n",
    "scaler = MinMaxScaler() #standard\n",
    "X_train = scaler.fit_transform(X_train)\n",
    "#X_train=X_train(scale)\n",
    "X_train\n",
    "\n",
    "X_test = scaler.fit_transform(X_test)\n",
    "X_test"
   ]
  },
  {
   "cell_type": "markdown",
   "id": "c8d025aa",
   "metadata": {},
   "source": [
    "# Model building"
   ]
  },
  {
   "cell_type": "code",
   "execution_count": 47,
   "id": "c49b9a2a",
   "metadata": {},
   "outputs": [],
   "source": [
    "from sklearn.linear_model import LogisticRegression"
   ]
  },
  {
   "cell_type": "code",
   "execution_count": 48,
   "id": "5520f7a1",
   "metadata": {},
   "outputs": [],
   "source": [
    "m=LogisticRegression()        # storing the function to the  m "
   ]
  },
  {
   "cell_type": "code",
   "execution_count": 49,
   "id": "6c527c05",
   "metadata": {},
   "outputs": [
    {
     "name": "stderr",
     "output_type": "stream",
     "text": [
      "C:\\Users\\Lenovo\\anaconda3\\lib\\site-packages\\sklearn\\utils\\validation.py:993: DataConversionWarning: A column-vector y was passed when a 1d array was expected. Please change the shape of y to (n_samples, ), for example using ravel().\n",
      "  y = column_or_1d(y, warn=True)\n"
     ]
    }
   ],
   "source": [
    "s1= m.fit(X_train,y_train)       # model that is well - fitted produces more accurate outcomes \n",
    "\n",
    "# if we provided X_train and  y_train that means it is Supervised ML\n",
    "# if we provided X_train to the model  it is unsupervised ML "
   ]
  },
  {
   "cell_type": "markdown",
   "id": "391dd7da",
   "metadata": {},
   "source": [
    "# Prediction from model"
   ]
  },
  {
   "cell_type": "code",
   "execution_count": 50,
   "id": "eb4006c5",
   "metadata": {},
   "outputs": [],
   "source": [
    "y_pred = m.predict(X_test)"
   ]
  },
  {
   "cell_type": "code",
   "execution_count": 51,
   "id": "abcc6655",
   "metadata": {},
   "outputs": [
    {
     "name": "stdout",
     "output_type": "stream",
     "text": [
      "[[4650  292]\n",
      " [ 891  680]]\n"
     ]
    }
   ],
   "source": [
    "from sklearn.metrics import confusion_matrix\n",
    "\n",
    "print(confusion_matrix(y_test,y_pred))\n",
    "\n",
    "#tn, fp, fn, tp = confusion_matrix(y_test,y_pred).ravel()  \n",
    "#print(tn, fp, fn, tp)\n",
    "\n"
   ]
  },
  {
   "cell_type": "code",
   "execution_count": 53,
   "id": "c21b5a9b",
   "metadata": {},
   "outputs": [
    {
     "name": "stdout",
     "output_type": "stream",
     "text": [
      "accuracy: 0.8183632734530938\n",
      "recall: 0.4328453214513049\n",
      "f1-score: 0.8021605115697044\n",
      "precision: 0.8055233342984256\n"
     ]
    }
   ],
   "source": [
    "# model evaluation\n",
    "from sklearn.metrics import recall_score\n",
    "from sklearn.metrics import f1_score\n",
    "from sklearn.metrics import accuracy_score\n",
    "from sklearn.metrics import precision_score\n",
    "                                                                         # Accuracy = (TP+TN)/Total\n",
    "print('accuracy:', accuracy_score(y_test, y_pred))                       # Accuracy = no of correct Pred/ total no of pred no\n",
    "print('recall:', recall_score(y_test, y_pred))                           # recall = TP/(TP+FN)\n",
    "print('f1-score:', f1_score(y_test, y_pred,average='weighted'))          # F1-Score = 2TP/(2TP+FN+FP)\n",
    "print('precision:', precision_score(y_test, y_pred,average='weighted'))  # precision = TP/(TP+FP)"
   ]
  },
  {
   "cell_type": "markdown",
   "id": "b517b317",
   "metadata": {},
   "source": [
    "# ROC-AUC"
   ]
  },
  {
   "cell_type": "code",
   "execution_count": null,
   "id": "614769ba",
   "metadata": {},
   "outputs": [],
   "source": []
  },
  {
   "cell_type": "code",
   "execution_count": 61,
   "id": "5b63c17f",
   "metadata": {},
   "outputs": [
    {
     "name": "stdout",
     "output_type": "stream",
     "text": [
      "ROC : 0.845\n",
      "\n",
      "AUC: 0.687\n"
     ]
    }
   ],
   "source": [
    "from sklearn.metrics import roc_auc_score\n",
    "rc=roc_auc_score(y_test, m.predict_proba(X_test)[:,1])\n",
    "rc\n",
    "\n",
    "print(\"ROC : %.3f\" % rc)\n",
    "print()\n",
    "from sklearn.metrics import roc_curve\n",
    "fpr, tpr, thresholds = roc_curve(y_test, y_pred)\n",
    "\n",
    "\n",
    "acc = roc_auc_score(y_test, y_pred)\n",
    "print('AUC: %.3f' % acc)\n"
   ]
  },
  {
   "cell_type": "code",
   "execution_count": 63,
   "id": "3ceaf29f",
   "metadata": {},
   "outputs": [
    {
     "data": {
      "image/png": "[encoded data removed]",
      "text/plain": [
       "<Figure size 640x480 with 1 Axes>"
      ]
     },
     "metadata": {},
     "output_type": "display_data"
    }
   ],
   "source": [
    "plt.plot(fpr, tpr, label='AUC = %0.2f'% acc)\n",
    "plt.legend(loc='lower right')\n",
    "plt.plot([0,1],[0,1],'r--')\n",
    "plt.xlim([-0.1,1.1])\n",
    "plt.ylim([-0.1,1.1])\n",
    "plt.ylabel('True Positive Rate')\n",
    "plt.xlabel('False Positive Rate')\n",
    "plt.show()"
   ]
  },
  {
   "cell_type": "code",
   "execution_count": null,
   "id": "33267e37",
   "metadata": {},
   "outputs": [],
   "source": []
  }
 ],
 "metadata": {
  "kernelspec": {
   "display_name": "Python 3 (ipykernel)",
   "language": "python",
   "name": "python3"
  },
  "language_info": {
   "codemirror_mode": {
    "name": "ipython",
    "version": 3
   },
   "file_extension": ".py",
   "mimetype": "text/x-python",
   "name": "python",
   "nbconvert_exporter": "python",
   "pygments_lexer": "ipython3",
   "version": "3.9.13"
  }
 },
 "nbformat": 4,
 "nbformat_minor": 5
}
