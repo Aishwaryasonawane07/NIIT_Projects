{
 "cells": [
  {
   "cell_type": "code",
   "execution_count": 1,
   "id": "dbebdc2a",
   "metadata": {},
   "outputs": [],
   "source": [
    "import numpy as np\n",
    "import pandas as pd\n",
    "import matplotlib.pyplot as plt\n",
    "\n",
    "from sklearn.preprocessing import MinMaxScaler, StandardScaler, FunctionTransformer\n",
    "from sklearn.cluster import DBSCAN, KMeans\n",
    "from sklearn.decomposition import PCA\n",
    "from sklearn.discriminant_analysis import LinearDiscriminantAnalysis\n",
    "\n",
    "from ipywidgets import interact\n",
    "import ipywidgets as widgets\n",
    "import seaborn as sns"
   ]
  },
  {
   "cell_type": "code",
   "execution_count": 2,
   "id": "6f589d5d",
   "metadata": {},
   "outputs": [
    {
     "data": {
      "text/html": [
       "<div>\n",
       "<style scoped>\n",
       "    .dataframe tbody tr th:only-of-type {\n",
       "        vertical-align: middle;\n",
       "    }\n",
       "\n",
       "    .dataframe tbody tr th {\n",
       "        vertical-align: top;\n",
       "    }\n",
       "\n",
       "    .dataframe thead th {\n",
       "        text-align: right;\n",
       "    }\n",
       "</style>\n",
       "<table border=\"1\" class=\"dataframe\">\n",
       "  <thead>\n",
       "    <tr style=\"text-align: right;\">\n",
       "      <th></th>\n",
       "      <th>age</th>\n",
       "      <th>sex</th>\n",
       "      <th>bmi</th>\n",
       "      <th>children</th>\n",
       "      <th>smoker</th>\n",
       "      <th>region</th>\n",
       "      <th>charges</th>\n",
       "    </tr>\n",
       "  </thead>\n",
       "  <tbody>\n",
       "    <tr>\n",
       "      <th>0</th>\n",
       "      <td>19</td>\n",
       "      <td>female</td>\n",
       "      <td>27.900</td>\n",
       "      <td>0</td>\n",
       "      <td>yes</td>\n",
       "      <td>southwest</td>\n",
       "      <td>16884.92400</td>\n",
       "    </tr>\n",
       "    <tr>\n",
       "      <th>1</th>\n",
       "      <td>18</td>\n",
       "      <td>male</td>\n",
       "      <td>33.770</td>\n",
       "      <td>1</td>\n",
       "      <td>no</td>\n",
       "      <td>southeast</td>\n",
       "      <td>1725.55230</td>\n",
       "    </tr>\n",
       "    <tr>\n",
       "      <th>2</th>\n",
       "      <td>28</td>\n",
       "      <td>male</td>\n",
       "      <td>33.000</td>\n",
       "      <td>3</td>\n",
       "      <td>no</td>\n",
       "      <td>southeast</td>\n",
       "      <td>4449.46200</td>\n",
       "    </tr>\n",
       "    <tr>\n",
       "      <th>3</th>\n",
       "      <td>33</td>\n",
       "      <td>male</td>\n",
       "      <td>22.705</td>\n",
       "      <td>0</td>\n",
       "      <td>no</td>\n",
       "      <td>northwest</td>\n",
       "      <td>21984.47061</td>\n",
       "    </tr>\n",
       "    <tr>\n",
       "      <th>4</th>\n",
       "      <td>32</td>\n",
       "      <td>male</td>\n",
       "      <td>28.880</td>\n",
       "      <td>0</td>\n",
       "      <td>no</td>\n",
       "      <td>northwest</td>\n",
       "      <td>3866.85520</td>\n",
       "    </tr>\n",
       "  </tbody>\n",
       "</table>\n",
       "</div>"
      ],
      "text/plain": [
       "   age     sex     bmi  children smoker     region      charges\n",
       "0   19  female  27.900         0    yes  southwest  16884.92400\n",
       "1   18    male  33.770         1     no  southeast   1725.55230\n",
       "2   28    male  33.000         3     no  southeast   4449.46200\n",
       "3   33    male  22.705         0     no  northwest  21984.47061\n",
       "4   32    male  28.880         0     no  northwest   3866.85520"
      ]
     },
     "execution_count": 2,
     "metadata": {},
     "output_type": "execute_result"
    }
   ],
   "source": [
    "df = pd.read_csv(\"D:\\Data Science\\Course 10\\DS2_C6_S5_Insurance_Data_Challenge.csv\")\n",
    "df.head()"
   ]
  },
  {
   "cell_type": "code",
   "execution_count": 3,
   "id": "f35f7c54",
   "metadata": {},
   "outputs": [
    {
     "data": {
      "text/plain": [
       "(1338, 7)"
      ]
     },
     "execution_count": 3,
     "metadata": {},
     "output_type": "execute_result"
    }
   ],
   "source": [
    "df.shape"
   ]
  },
  {
   "cell_type": "code",
   "execution_count": 4,
   "id": "71469088",
   "metadata": {},
   "outputs": [
    {
     "data": {
      "text/html": [
       "<div>\n",
       "<style scoped>\n",
       "    .dataframe tbody tr th:only-of-type {\n",
       "        vertical-align: middle;\n",
       "    }\n",
       "\n",
       "    .dataframe tbody tr th {\n",
       "        vertical-align: top;\n",
       "    }\n",
       "\n",
       "    .dataframe thead th {\n",
       "        text-align: right;\n",
       "    }\n",
       "</style>\n",
       "<table border=\"1\" class=\"dataframe\">\n",
       "  <thead>\n",
       "    <tr style=\"text-align: right;\">\n",
       "      <th></th>\n",
       "      <th>age</th>\n",
       "      <th>bmi</th>\n",
       "      <th>children</th>\n",
       "      <th>charges</th>\n",
       "    </tr>\n",
       "  </thead>\n",
       "  <tbody>\n",
       "    <tr>\n",
       "      <th>count</th>\n",
       "      <td>1338.000000</td>\n",
       "      <td>1338.000000</td>\n",
       "      <td>1338.000000</td>\n",
       "      <td>1338.000000</td>\n",
       "    </tr>\n",
       "    <tr>\n",
       "      <th>mean</th>\n",
       "      <td>39.207025</td>\n",
       "      <td>30.663397</td>\n",
       "      <td>1.094918</td>\n",
       "      <td>13270.422265</td>\n",
       "    </tr>\n",
       "    <tr>\n",
       "      <th>std</th>\n",
       "      <td>14.049960</td>\n",
       "      <td>6.098187</td>\n",
       "      <td>1.205493</td>\n",
       "      <td>12110.011237</td>\n",
       "    </tr>\n",
       "    <tr>\n",
       "      <th>min</th>\n",
       "      <td>18.000000</td>\n",
       "      <td>15.960000</td>\n",
       "      <td>0.000000</td>\n",
       "      <td>1121.873900</td>\n",
       "    </tr>\n",
       "    <tr>\n",
       "      <th>25%</th>\n",
       "      <td>27.000000</td>\n",
       "      <td>26.296250</td>\n",
       "      <td>0.000000</td>\n",
       "      <td>4740.287150</td>\n",
       "    </tr>\n",
       "    <tr>\n",
       "      <th>50%</th>\n",
       "      <td>39.000000</td>\n",
       "      <td>30.400000</td>\n",
       "      <td>1.000000</td>\n",
       "      <td>9382.033000</td>\n",
       "    </tr>\n",
       "    <tr>\n",
       "      <th>75%</th>\n",
       "      <td>51.000000</td>\n",
       "      <td>34.693750</td>\n",
       "      <td>2.000000</td>\n",
       "      <td>16639.912515</td>\n",
       "    </tr>\n",
       "    <tr>\n",
       "      <th>max</th>\n",
       "      <td>64.000000</td>\n",
       "      <td>53.130000</td>\n",
       "      <td>5.000000</td>\n",
       "      <td>63770.428010</td>\n",
       "    </tr>\n",
       "  </tbody>\n",
       "</table>\n",
       "</div>"
      ],
      "text/plain": [
       "               age          bmi     children       charges\n",
       "count  1338.000000  1338.000000  1338.000000   1338.000000\n",
       "mean     39.207025    30.663397     1.094918  13270.422265\n",
       "std      14.049960     6.098187     1.205493  12110.011237\n",
       "min      18.000000    15.960000     0.000000   1121.873900\n",
       "25%      27.000000    26.296250     0.000000   4740.287150\n",
       "50%      39.000000    30.400000     1.000000   9382.033000\n",
       "75%      51.000000    34.693750     2.000000  16639.912515\n",
       "max      64.000000    53.130000     5.000000  63770.428010"
      ]
     },
     "execution_count": 4,
     "metadata": {},
     "output_type": "execute_result"
    }
   ],
   "source": [
    "df.describe()"
   ]
  },
  {
   "cell_type": "code",
   "execution_count": 5,
   "id": "eba742d8",
   "metadata": {},
   "outputs": [
    {
     "data": {
      "text/plain": [
       "age         0\n",
       "sex         0\n",
       "bmi         0\n",
       "children    0\n",
       "smoker      0\n",
       "region      0\n",
       "charges     0\n",
       "dtype: int64"
      ]
     },
     "execution_count": 5,
     "metadata": {},
     "output_type": "execute_result"
    }
   ],
   "source": [
    "df.isnull().sum()"
   ]
  },
  {
   "cell_type": "markdown",
   "id": "bf6141c2",
   "metadata": {},
   "source": [
    "# Task 2"
   ]
  },
  {
   "cell_type": "markdown",
   "id": "948d0418",
   "metadata": {},
   "source": [
    "### a. How smoking habit is distributed into features of policyholders?"
   ]
  },
  {
   "cell_type": "code",
   "execution_count": 6,
   "id": "cb43f73d",
   "metadata": {},
   "outputs": [
    {
     "data": {
      "image/png": "[encoded data removed]",
      "text/plain": [
       "<Figure size 640x480 with 1 Axes>"
      ]
     },
     "metadata": {},
     "output_type": "display_data"
    }
   ],
   "source": [
    "# Calculate the frequency of smokers and non-smokers\n",
    "smokers = df[df['smoker'] == 'yes']\n",
    "non_smokers = df[df['smoker'] == 'no']\n",
    "smoker_counts = [len(smokers), len(non_smokers)]\n",
    "smoker_labels = ['Smokers', 'Non-smokers']\n",
    "\n",
    "# Create a bar chart\n",
    "fig, ax = plt.subplots()\n",
    "ax.bar(smoker_labels, smoker_counts)\n",
    "\n",
    "# Add labels and a title\n",
    "ax.set_xlabel('Smoking Habit')\n",
    "ax.set_ylabel('No of people')\n",
    "ax.set_title('Distribution of Smoking Habit Among Policyholders')\n",
    "\n",
    "# Show the plot\n",
    "plt.show()"
   ]
  },
  {
   "cell_type": "markdown",
   "id": "8a6856df",
   "metadata": {},
   "source": [
    "### How does obesity exist among smokers "
   ]
  },
  {
   "cell_type": "code",
   "execution_count": 7,
   "id": "87e7e8dc",
   "metadata": {},
   "outputs": [
    {
     "data": {
      "text/plain": [
       "Text(0.5, 1.0, 'Obesity Rates Among Smokers ')"
      ]
     },
     "execution_count": 7,
     "metadata": {},
     "output_type": "execute_result"
    },
    {
     "data": {
      "image/png": "[encoded data removed]",
      "text/plain": [
       "<Figure size 640x480 with 1 Axes>"
      ]
     },
     "metadata": {},
     "output_type": "display_data"
    }
   ],
   "source": [
    "smokers = df[df['smoker'] == 'yes']\n",
    "non_smokers = df[df['smoker'] == 'no']\n",
    "obese_smokers = smokers[smokers['bmi'] >= 30]\n",
    "obese_non_smokers = non_smokers[non_smokers['bmi'] >= 30]\n",
    "obesity_rates = [len(obese_smokers) / len(smokers), len(obese_non_smokers) / len(non_smokers)]\n",
    "\n",
    "# Create a grouped bar chart\n",
    "fig, ax = plt.subplots()\n",
    "x = ['Smokers', 'Non-smokers']\n",
    "bar1 = ax.bar(x, [len(obese_smokers), len(obese_non_smokers)], label='Obese')\n",
    "bar2 = ax.bar(x, [len(smokers)-len(obese_smokers), len(non_smokers)-len(obese_non_smokers)], bottom=[len(obese_smokers), len(obese_non_smokers)], label='Not Obese')\n",
    "\n",
    "ax.set_xlabel('Smoking Habit')\n",
    "ax.set_ylabel('No of people')\n",
    "ax.set_title('Obesity Rates Among Smokers ')\n"
   ]
  },
  {
   "cell_type": "markdown",
   "id": "cd74612e",
   "metadata": {},
   "source": [
    "### How do chaarges are distributed among region?"
   ]
  },
  {
   "cell_type": "code",
   "execution_count": 9,
   "id": "1deefddc",
   "metadata": {},
   "outputs": [
    {
     "data": {
      "image/png": "[encoded data removed]",
      "text/plain": [
       "<Figure size 1000x600 with 1 Axes>"
      ]
     },
     "metadata": {},
     "output_type": "display_data"
    }
   ],
   "source": [
    "# Create a box plot of charges by region\n",
    "ax=df.boxplot(column='charges', by='region', figsize=(10,6))\n",
    "ax.set_xticklabels([\"northeast\", \"northwest\",\"southeast\", \"southwest\"])\n",
    "\n",
    "# Add labels and a title\n",
    "plt.xlabel('Region')\n",
    "plt.ylabel('Charges')\n",
    "plt.title('Distribution of Medical Charges by Region')\n",
    "\n",
    "# Show the plot\n",
    "plt.show()\n"
   ]
  },
  {
   "cell_type": "markdown",
   "id": "79bf0fdb",
   "metadata": {},
   "source": [
    "### d. How do charges are distributed among gender? "
   ]
  },
  {
   "cell_type": "code",
   "execution_count": 10,
   "id": "0ea36e80",
   "metadata": {},
   "outputs": [
    {
     "data": {
      "image/png": "[encoded data removed]",
      "text/plain": [
       "<Figure size 1000x600 with 1 Axes>"
      ]
     },
     "metadata": {},
     "output_type": "display_data"
    }
   ],
   "source": [
    "# Create a box plot of charges by regiondo \n",
    "\n",
    "ax=df.boxplot(column='charges', by='sex', figsize=(10,6))\n",
    "ax.set_xticklabels([\"male\", \"female\"])\n",
    "# Add labels and a title\n",
    "plt.xlabel('Region')\n",
    "plt.ylabel('Charges')\n",
    "plt.title('Distribution of Medical Charges by Region')\n",
    "\n",
    "# Show the plot\n",
    "plt.show()\n"
   ]
  },
  {
   "cell_type": "markdown",
   "id": "e8acb6d1",
   "metadata": {},
   "source": [
    "# Task 3"
   ]
  },
  {
   "cell_type": "code",
   "execution_count": 12,
   "id": "8fe9bc25",
   "metadata": {},
   "outputs": [
    {
     "data": {
      "text/html": [
       "<div>\n",
       "<style scoped>\n",
       "    .dataframe tbody tr th:only-of-type {\n",
       "        vertical-align: middle;\n",
       "    }\n",
       "\n",
       "    .dataframe tbody tr th {\n",
       "        vertical-align: top;\n",
       "    }\n",
       "\n",
       "    .dataframe thead th {\n",
       "        text-align: right;\n",
       "    }\n",
       "</style>\n",
       "<table border=\"1\" class=\"dataframe\">\n",
       "  <thead>\n",
       "    <tr style=\"text-align: right;\">\n",
       "      <th></th>\n",
       "      <th>age</th>\n",
       "      <th>sex</th>\n",
       "      <th>bmi</th>\n",
       "      <th>children</th>\n",
       "      <th>smoker</th>\n",
       "      <th>region</th>\n",
       "      <th>charges</th>\n",
       "    </tr>\n",
       "  </thead>\n",
       "  <tbody>\n",
       "    <tr>\n",
       "      <th>0</th>\n",
       "      <td>19</td>\n",
       "      <td>0</td>\n",
       "      <td>27.900</td>\n",
       "      <td>0</td>\n",
       "      <td>1</td>\n",
       "      <td>3</td>\n",
       "      <td>16884.92400</td>\n",
       "    </tr>\n",
       "    <tr>\n",
       "      <th>1</th>\n",
       "      <td>18</td>\n",
       "      <td>1</td>\n",
       "      <td>33.770</td>\n",
       "      <td>1</td>\n",
       "      <td>0</td>\n",
       "      <td>2</td>\n",
       "      <td>1725.55230</td>\n",
       "    </tr>\n",
       "    <tr>\n",
       "      <th>2</th>\n",
       "      <td>28</td>\n",
       "      <td>1</td>\n",
       "      <td>33.000</td>\n",
       "      <td>3</td>\n",
       "      <td>0</td>\n",
       "      <td>2</td>\n",
       "      <td>4449.46200</td>\n",
       "    </tr>\n",
       "    <tr>\n",
       "      <th>3</th>\n",
       "      <td>33</td>\n",
       "      <td>1</td>\n",
       "      <td>22.705</td>\n",
       "      <td>0</td>\n",
       "      <td>0</td>\n",
       "      <td>1</td>\n",
       "      <td>21984.47061</td>\n",
       "    </tr>\n",
       "    <tr>\n",
       "      <th>4</th>\n",
       "      <td>32</td>\n",
       "      <td>1</td>\n",
       "      <td>28.880</td>\n",
       "      <td>0</td>\n",
       "      <td>0</td>\n",
       "      <td>1</td>\n",
       "      <td>3866.85520</td>\n",
       "    </tr>\n",
       "  </tbody>\n",
       "</table>\n",
       "</div>"
      ],
      "text/plain": [
       "   age  sex     bmi  children  smoker  region      charges\n",
       "0   19    0  27.900         0       1       3  16884.92400\n",
       "1   18    1  33.770         1       0       2   1725.55230\n",
       "2   28    1  33.000         3       0       2   4449.46200\n",
       "3   33    1  22.705         0       0       1  21984.47061\n",
       "4   32    1  28.880         0       0       1   3866.85520"
      ]
     },
     "execution_count": 12,
     "metadata": {},
     "output_type": "execute_result"
    }
   ],
   "source": [
    "from sklearn.preprocessing import LabelEncoder\n",
    "le=LabelEncoder()\n",
    "df[\"sex\"]=le.fit_transform(df[\"sex\"])\n",
    "df[\"smoker\"]=le.fit_transform(df[\"smoker\"])\n",
    "df[\"region\"]=le.fit_transform(df[\"region\"])\n",
    "df.head()"
   ]
  },
  {
   "cell_type": "code",
   "execution_count": 13,
   "id": "575adf5c",
   "metadata": {},
   "outputs": [],
   "source": [
    "from sklearn.preprocessing import MinMaxScaler\n",
    "scale=MinMaxScaler()\n",
    "x=scale.fit_transform(df)"
   ]
  },
  {
   "cell_type": "code",
   "execution_count": 17,
   "id": "45eca96a",
   "metadata": {},
   "outputs": [],
   "source": [
    "y = df.iloc[:,-1] "
   ]
  },
  {
   "cell_type": "code",
   "execution_count": 36,
   "id": "7e339ee3",
   "metadata": {},
   "outputs": [],
   "source": [
    "X = df.drop(\"charges\", axis =1)"
   ]
  },
  {
   "cell_type": "code",
   "execution_count": 37,
   "id": "d833fd22",
   "metadata": {},
   "outputs": [
    {
     "data": {
      "text/html": [
       "<div>\n",
       "<style scoped>\n",
       "    .dataframe tbody tr th:only-of-type {\n",
       "        vertical-align: middle;\n",
       "    }\n",
       "\n",
       "    .dataframe tbody tr th {\n",
       "        vertical-align: top;\n",
       "    }\n",
       "\n",
       "    .dataframe thead th {\n",
       "        text-align: right;\n",
       "    }\n",
       "</style>\n",
       "<table border=\"1\" class=\"dataframe\">\n",
       "  <thead>\n",
       "    <tr style=\"text-align: right;\">\n",
       "      <th></th>\n",
       "      <th>age</th>\n",
       "      <th>sex</th>\n",
       "      <th>bmi</th>\n",
       "      <th>children</th>\n",
       "      <th>smoker</th>\n",
       "      <th>region</th>\n",
       "    </tr>\n",
       "  </thead>\n",
       "  <tbody>\n",
       "    <tr>\n",
       "      <th>0</th>\n",
       "      <td>19</td>\n",
       "      <td>0</td>\n",
       "      <td>27.900</td>\n",
       "      <td>0</td>\n",
       "      <td>1</td>\n",
       "      <td>3</td>\n",
       "    </tr>\n",
       "    <tr>\n",
       "      <th>1</th>\n",
       "      <td>18</td>\n",
       "      <td>1</td>\n",
       "      <td>33.770</td>\n",
       "      <td>1</td>\n",
       "      <td>0</td>\n",
       "      <td>2</td>\n",
       "    </tr>\n",
       "    <tr>\n",
       "      <th>2</th>\n",
       "      <td>28</td>\n",
       "      <td>1</td>\n",
       "      <td>33.000</td>\n",
       "      <td>3</td>\n",
       "      <td>0</td>\n",
       "      <td>2</td>\n",
       "    </tr>\n",
       "    <tr>\n",
       "      <th>3</th>\n",
       "      <td>33</td>\n",
       "      <td>1</td>\n",
       "      <td>22.705</td>\n",
       "      <td>0</td>\n",
       "      <td>0</td>\n",
       "      <td>1</td>\n",
       "    </tr>\n",
       "    <tr>\n",
       "      <th>4</th>\n",
       "      <td>32</td>\n",
       "      <td>1</td>\n",
       "      <td>28.880</td>\n",
       "      <td>0</td>\n",
       "      <td>0</td>\n",
       "      <td>1</td>\n",
       "    </tr>\n",
       "    <tr>\n",
       "      <th>...</th>\n",
       "      <td>...</td>\n",
       "      <td>...</td>\n",
       "      <td>...</td>\n",
       "      <td>...</td>\n",
       "      <td>...</td>\n",
       "      <td>...</td>\n",
       "    </tr>\n",
       "    <tr>\n",
       "      <th>1333</th>\n",
       "      <td>50</td>\n",
       "      <td>1</td>\n",
       "      <td>30.970</td>\n",
       "      <td>3</td>\n",
       "      <td>0</td>\n",
       "      <td>1</td>\n",
       "    </tr>\n",
       "    <tr>\n",
       "      <th>1334</th>\n",
       "      <td>18</td>\n",
       "      <td>0</td>\n",
       "      <td>31.920</td>\n",
       "      <td>0</td>\n",
       "      <td>0</td>\n",
       "      <td>0</td>\n",
       "    </tr>\n",
       "    <tr>\n",
       "      <th>1335</th>\n",
       "      <td>18</td>\n",
       "      <td>0</td>\n",
       "      <td>36.850</td>\n",
       "      <td>0</td>\n",
       "      <td>0</td>\n",
       "      <td>2</td>\n",
       "    </tr>\n",
       "    <tr>\n",
       "      <th>1336</th>\n",
       "      <td>21</td>\n",
       "      <td>0</td>\n",
       "      <td>25.800</td>\n",
       "      <td>0</td>\n",
       "      <td>0</td>\n",
       "      <td>3</td>\n",
       "    </tr>\n",
       "    <tr>\n",
       "      <th>1337</th>\n",
       "      <td>61</td>\n",
       "      <td>0</td>\n",
       "      <td>29.070</td>\n",
       "      <td>0</td>\n",
       "      <td>1</td>\n",
       "      <td>1</td>\n",
       "    </tr>\n",
       "  </tbody>\n",
       "</table>\n",
       "<p>1338 rows × 6 columns</p>\n",
       "</div>"
      ],
      "text/plain": [
       "      age  sex     bmi  children  smoker  region\n",
       "0      19    0  27.900         0       1       3\n",
       "1      18    1  33.770         1       0       2\n",
       "2      28    1  33.000         3       0       2\n",
       "3      33    1  22.705         0       0       1\n",
       "4      32    1  28.880         0       0       1\n",
       "...   ...  ...     ...       ...     ...     ...\n",
       "1333   50    1  30.970         3       0       1\n",
       "1334   18    0  31.920         0       0       0\n",
       "1335   18    0  36.850         0       0       2\n",
       "1336   21    0  25.800         0       0       3\n",
       "1337   61    0  29.070         0       1       1\n",
       "\n",
       "[1338 rows x 6 columns]"
      ]
     },
     "execution_count": 37,
     "metadata": {},
     "output_type": "execute_result"
    }
   ],
   "source": [
    "X"
   ]
  },
  {
   "cell_type": "code",
   "execution_count": 39,
   "id": "ffdd3406",
   "metadata": {},
   "outputs": [
    {
     "data": {
      "application/vnd.jupyter.widget-view+json": {
       "model_id": "946227d295984e159084c14697ff6463",
       "version_major": 2,
       "version_minor": 0
      },
      "text/plain": [
       "interactive(children=(SelectMultiple(description='Features', index=(0, 1, 2, 3, 4, 5), layout=Layout(width='40…"
      ]
     },
     "metadata": {},
     "output_type": "display_data"
    }
   ],
   "source": [
    "cols = [\"age\",\"sex\",\"bmi\",\"children\",\"smoker\",\"region\"]\n",
    "def make_kmeans(attributes=cols, scaler=MinMaxScaler(), dimension_reduction='pca', components=2, k=3, show='features'):\n",
    " attributes = list(attributes)\n",
    " scaled_values = scaler.fit_transform(X[attributes])\n",
    " X_l=X.iloc[:, 0:3].values\n",
    " y_l=X.iloc[:, 3].values\n",
    " \n",
    " components = min(components, len(attributes))\n",
    " if dimension_reduction == 'pca':\n",
    "    values = PCA().fit_transform(scaled_values)[:, :components]\n",
    " elif dimension_reduction == 'lda':\n",
    "    values = LinearDiscriminantAnalysis(n_components=2).fit_transform(X_l,y_l)[:, :components] \n",
    " else: \n",
    "    values = scaled_values\n",
    " \n",
    " cluster = KMeans(n_clusters=k).fit_predict(values)\n",
    " \n",
    " if show == 'features':\n",
    "        df_plot = X.astype(float).copy()\n",
    " elif show == 'values':\n",
    "    df_plot = pd.DataFrame(values)\n",
    " \n",
    " df_plot['cluster'] = cluster\n",
    " \n",
    " sns.pairplot(df_plot, hue=\"cluster\", diag_kind = 'hist', diag_kws={'alpha':0.5} , vars=[c for c in df_plot.columns if c != 'cluster'])\n",
    "\n",
    "style = {'description_width': '150px'}\n",
    "layout = widgets.Layout(width='400px')\n",
    "i = interact(make_kmeans\n",
    "    , attributes=widgets.SelectMultiple(options=cols, value=cols, rows=len(cols)\n",
    "     ,description='Features', layout=layout, style=style\n",
    "     ,disabled=False,continuous_update=False,orientation='horizontal',readout=True)\n",
    "             \n",
    "     , scaler=widgets.RadioButtons(options=[ ('Z-Transform', StandardScaler()), ('Min-Max', MinMaxScaler()), ('None', FunctionTransformer(validate=False))]\n",
    "     ,description='Scaler', layout=layout, style=style\n",
    "     ,disabled=False,continuous_update=False,orientation='horizontal',readout=True)\n",
    "             \n",
    "     , dimension_reduction=widgets.RadioButtons(options=[('PCA', 'pca'), ('LDA', 'lda'), ('without', None)]\n",
    "     ,description='Dimensionality Reduction'\n",
    "     , layout=layout, style=style\n",
    "     ,disabled=False,continuous_update=False,orientation='horizontal',readout=True)\n",
    "             \n",
    "     , components=widgets.SelectionSlider(options=range(1, 5), value=4\n",
    "     ,description='PCA components'\n",
    "     , layout=layout, style=style\n",
    "     ,disabled=False,continuous_update=False,orientation='horizontal',readout=True)\n",
    "             \n",
    "     , k=widgets.SelectionSlider(options=range(2, 8),description='k'\n",
    "     , layout=layout, style=style\n",
    "     ,disabled=False,continuous_update=False,orientation='horizontal',readout=True)\n",
    "             \n",
    "     , show=widgets.RadioButtons(options=[('Features', 'features'), ('Values', 'values')],description='Show'\n",
    "     , layout=layout, style=style,disabled=False,continuous_update=False,orientation='horizontal',readout=True)\n",
    " )\n"
   ]
  },
  {
   "cell_type": "markdown",
   "id": "03d2aeb7",
   "metadata": {},
   "source": [
    "# Using DBSCAN Clustering Algorithm"
   ]
  },
  {
   "cell_type": "code",
   "execution_count": 40,
   "id": "23b78c04",
   "metadata": {},
   "outputs": [
    {
     "data": {
      "application/vnd.jupyter.widget-view+json": {
       "model_id": "96f44f3b443f423aabff15309318751b",
       "version_major": 2,
       "version_minor": 0
      },
      "text/plain": [
       "interactive(children=(SelectMultiple(description='Features', index=(0, 1, 2, 3, 4, 5), layout=Layout(width='40…"
      ]
     },
     "metadata": {},
     "output_type": "display_data"
    }
   ],
   "source": [
    "cols = [\"age\",\"sex\",\"bmi\",\"children\",\"smoker\",\"region\"]\n",
    "def make_dbscan(attributes=cols, scaler=MinMaxScaler(), dimension_reduction=None, components=5, eps=.5,\n",
    "min_samples=5, show='features'):\n",
    "    attributes = list(attributes)\n",
    "    scaled_values = scaler.fit_transform(X[attributes])\n",
    "    X_l=X.iloc[:, 0:3].values\n",
    "    y_l=X.iloc[:, 3].values\n",
    "    components = min(components, len(attributes))\n",
    "    if dimension_reduction == 'pca':\n",
    "        values = PCA().fit_transform(scaled_values)[:, :components]\n",
    "    elif dimension_reduction == 'tsne':\n",
    "        values = LinearDiscriminantAnalysis(n_components=2).fit_transform(X_l,y_l)[:, :components]\n",
    "    else:\n",
    "        values = scaled_values\n",
    " \n",
    "    cluster = DBSCAN(eps=eps, min_samples=min_samples).fit_predict(values)\n",
    "    print('Found', 1+np.max(cluster), 'clusters with', np.sum(cluster == -1), 'outliers')\n",
    " \n",
    "    if show == 'features':\n",
    "        df_plot = X.astype(float).copy()\n",
    "    elif show == 'values':\n",
    "        df_plot = pd.DataFrame(values)\n",
    " \n",
    "    df_plot['cluster'] = cluster\n",
    " \n",
    "    sns.pairplot(df_plot, hue=\"cluster\", diag_kind = 'hist', diag_kws={'alpha':0.5}, vars=[c for c in df_plot.columns if c != 'cluster'])\n",
    "\n",
    "style = {'description_width': '150px'}\n",
    "layout = widgets.Layout(width='400px')\n",
    "\n",
    "i = interact(make_dbscan\n",
    " , attributes=widgets.SelectMultiple(options=cols, value=cols, rows=len(cols)\n",
    " ,description='Features', layout=layout, style=style\n",
    " ,disabled=False,continuous_update=False,orientation='horizontal',readout=True)\n",
    "             \n",
    " , scaler=widgets.RadioButtons(options=[('Z-Transform', StandardScaler()), ('Min-Max', MinMaxScaler()), ('None', FunctionTransformer(validate=False))]\n",
    " ,description='Scaler', layout=layout, style=style\n",
    " ,disabled=False,continuous_update=False,orientation='horizontal',readout=True)\n",
    "             \n",
    " , dimension_reduction=widgets.RadioButtons(options=[('PCA', 'pca'), ('LDA', 'lda'), ('without', None)]\n",
    " ,description='Dimensionality Reduction'\n",
    " , layout=layout, style=style\n",
    " ,disabled=False,continuous_update=False,orientation='horizontal',readout=True)\n",
    "             \n",
    " , components=widgets.SelectionSlider(options=range(1, 5), value=4\n",
    " ,description='Number components'\n",
    " , layout=layout, style=style\n",
    " ,disabled=False,continuous_update=False,orientation='horizontal',readout=True)\n",
    "                                      \n",
    " , eps=widgets.SelectionSlider(options=[.1, .25, .5, .6, .7, .8, .9, 1., 1.25, 1.5, 2.], value = .5\n",
    " ,description='Epsilon'\n",
    " , layout=layout, style=style\n",
    " ,disabled=False,continuous_update=False,orientation='horizontal',readout=True)\n",
    "                               \n",
    " , min_samples=widgets.SelectionSlider(options=range(1, 20), value=5\n",
    " ,description='Min. samples'\n",
    " , layout=layout, style=style\n",
    " ,disabled=False,continuous_update=False,orientation='horizontal',readout=True)\n",
    "                                       \n",
    " , show=widgets.RadioButtons(options=[('Features', 'features'), ('Values', 'values')]\n",
    " ,description='Show'\n",
    " , layout=layout, style=style\n",
    " ,disabled=False,continuous_update=False,orientation='horizontal',readout=True)\n",
    " )"
   ]
  },
  {
   "cell_type": "markdown",
   "id": "d3e45ba0",
   "metadata": {},
   "source": [
    "### Hierarchical Clustering"
   ]
  },
  {
   "cell_type": "code",
   "execution_count": 41,
   "id": "4e039cf6",
   "metadata": {},
   "outputs": [
    {
     "data": {
      "application/vnd.jupyter.widget-view+json": {
       "model_id": "3fa666e851d844b4a6e62d316872250d",
       "version_major": 2,
       "version_minor": 0
      },
      "text/plain": [
       "interactive(children=(SelectMultiple(description='Features', index=(0, 1, 2, 3, 4, 5), layout=Layout(width='40…"
      ]
     },
     "metadata": {},
     "output_type": "display_data"
    }
   ],
   "source": [
    "from sklearn.cluster import AgglomerativeClustering\n",
    "cols = [\"age\",\"sex\",\"bmi\",\"children\",\"smoker\",\"region\"]\n",
    "\n",
    "def make_agg_clustering(attributes=cols, scaler=MinMaxScaler(), dimension_reduction=None, components=5, n_clusters=3, linkage='ward', show='features'):\n",
    "    attributes = list(attributes)\n",
    "    scaled_values = scaler.fit_transform(X[attributes])\n",
    "    X_l=X.iloc[:, 0:3].values\n",
    "    y_l=X.iloc[:, 3].values\n",
    "    components = min(components, len(attributes))\n",
    "    if dimension_reduction == 'pca':\n",
    "        values = PCA().fit_transform(scaled_values)[:, :components]\n",
    "    elif dimension_reduction == 'tsne':\n",
    "        values = LinearDiscriminantAnalysis(n_components=2).fit_transform(X_l,y_l)[:, :components]\n",
    "    else:\n",
    "        values = scaled_values\n",
    " \n",
    "    cluster = AgglomerativeClustering(n_clusters=n_clusters, linkage=linkage).fit_predict(values)\n",
    "    print('Found', np.unique(cluster).size, 'clusters')\n",
    " \n",
    "    if show == 'features':\n",
    "        df_plot = X.astype(float).copy()\n",
    "    elif show == 'values':\n",
    "        df_plot = pd.DataFrame(values)\n",
    " \n",
    "    df_plot['cluster'] = cluster\n",
    " \n",
    "    sns.pairplot(df_plot, hue=\"cluster\", diag_kind='hist', diag_kws={'alpha':0.5}, vars=[c for c in df_plot.columns if c != 'cluster'])\n",
    "\n",
    "style = {'description_width': '150px'}\n",
    "layout = widgets.Layout(width='400px')\n",
    "\n",
    "i = interact(make_agg_clustering\n",
    " , attributes=widgets.SelectMultiple(options=cols, value=cols, rows=len(cols)\n",
    " ,description='Features', layout=layout, style=style\n",
    " ,disabled=False,continuous_update=False,orientation='horizontal',readout=True)\n",
    "             \n",
    " , scaler=widgets.RadioButtons(options=[('Z-Transform', StandardScaler()), ('Min-Max', MinMaxScaler()), ('None', FunctionTransformer(validate=False))]\n",
    " ,description='Scaler', layout=layout, style=style\n",
    " ,disabled=False,continuous_update=False,orientation='horizontal',readout=True)\n",
    "             \n",
    " , dimension_reduction=widgets.RadioButtons(options=[('PCA', 'pca'), ('LDA', 'lda'), ('without', None)]\n",
    " ,description='Dimensionality Reduction'\n",
    " , layout=layout, style=style\n",
    " ,disabled=False,continuous_update=False,orientation='horizontal',readout=True)\n",
    "             \n",
    " , components=widgets.SelectionSlider(options=range(1, 5), value=4\n",
    " ,description='Number components'\n",
    " , layout=layout, style=style\n",
    " ,disabled=False,continuous_update=False,orientation='horizontal',readout=True)\n",
    "                                      \n",
    " , n_clusters=widgets.SelectionSlider(options=range(2, 8), value=3\n",
    " ,description='Number of Clusters'\n",
    " , layout=layout, style=style\n",
    " ,disabled=False,continuous_update=False,orientation='horizontal',readout=True)\n",
    "                               \n",
    " , linkage=widgets.RadioButtons(options=['ward', 'complete', 'average'])\n",
    " ,description='Linkage Type'\n",
    " , layout=layout, style=style\n",
    " ,disabled=False,continuous_update=False,orientation='horizontal',readout=True\n",
    "\n",
    " , show=widgets.RadioButtons(options=[('Features', 'features'), ('Values', 'values')]\n",
    " ,description='Show'\n",
    " , layout=layout, style=style\n",
    " ,disabled=False,continuous_update=False,orientation='horizontal',readout=True) \n",
    " )"
   ]
  },
  {
   "cell_type": "code",
   "execution_count": null,
   "id": "bb27c4fd",
   "metadata": {},
   "outputs": [],
   "source": []
  }
 ],
 "metadata": {
  "kernelspec": {
   "display_name": "Python 3 (ipykernel)",
   "language": "python",
   "name": "python3"
  },
  "language_info": {
   "codemirror_mode": {
    "name": "ipython",
    "version": 3
   },
   "file_extension": ".py",
   "mimetype": "text/x-python",
   "name": "python",
   "nbconvert_exporter": "python",
   "pygments_lexer": "ipython3",
   "version": "3.9.13"
  }
 },
 "nbformat": 4,
 "nbformat_minor": 5
}
